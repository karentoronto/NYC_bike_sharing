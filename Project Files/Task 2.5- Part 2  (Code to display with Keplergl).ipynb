{
 "cells": [
  {
   "cell_type": "code",
   "execution_count": 1,
   "metadata": {},
   "outputs": [],
   "source": [
    "import pandas as pd\n",
    "import os\n",
    "from keplergl import KeplerGl\n",
    "from pyproj import CRS\n",
    "import numpy as np\n",
    "from matplotlib import pyplot as plt"
   ]
  },
  {
   "cell_type": "code",
   "execution_count": 2,
   "metadata": {},
   "outputs": [
    {
     "data": {
      "text/html": [
       "<div>\n",
       "<style scoped>\n",
       "    .dataframe tbody tr th:only-of-type {\n",
       "        vertical-align: middle;\n",
       "    }\n",
       "\n",
       "    .dataframe tbody tr th {\n",
       "        vertical-align: top;\n",
       "    }\n",
       "\n",
       "    .dataframe thead th {\n",
       "        text-align: right;\n",
       "    }\n",
       "</style>\n",
       "<table border=\"1\" class=\"dataframe\">\n",
       "  <thead>\n",
       "    <tr style=\"text-align: right;\">\n",
       "      <th></th>\n",
       "      <th>start_station_name</th>\n",
       "      <th>end_station_name</th>\n",
       "      <th>start_lat</th>\n",
       "      <th>start_lng</th>\n",
       "      <th>end_lat</th>\n",
       "      <th>end_lng</th>\n",
       "      <th>trips</th>\n",
       "    </tr>\n",
       "  </thead>\n",
       "  <tbody>\n",
       "    <tr>\n",
       "      <th>0</th>\n",
       "      <td>1 Ave &amp; E 110 St</td>\n",
       "      <td>1 Ave &amp; E 110 St</td>\n",
       "      <td>40.792328</td>\n",
       "      <td>-73.938301</td>\n",
       "      <td>40.792328</td>\n",
       "      <td>-73.938301</td>\n",
       "      <td>223</td>\n",
       "    </tr>\n",
       "    <tr>\n",
       "      <th>1</th>\n",
       "      <td>1 Ave &amp; E 110 St</td>\n",
       "      <td>1 Ave &amp; E 30 St</td>\n",
       "      <td>40.792328</td>\n",
       "      <td>-73.938301</td>\n",
       "      <td>40.741444</td>\n",
       "      <td>-73.975357</td>\n",
       "      <td>1</td>\n",
       "    </tr>\n",
       "    <tr>\n",
       "      <th>2</th>\n",
       "      <td>1 Ave &amp; E 110 St</td>\n",
       "      <td>1 Ave &amp; E 44 St</td>\n",
       "      <td>40.792328</td>\n",
       "      <td>-73.938301</td>\n",
       "      <td>40.750019</td>\n",
       "      <td>-73.969055</td>\n",
       "      <td>3</td>\n",
       "    </tr>\n",
       "    <tr>\n",
       "      <th>3</th>\n",
       "      <td>1 Ave &amp; E 110 St</td>\n",
       "      <td>1 Ave &amp; E 62 St</td>\n",
       "      <td>40.792328</td>\n",
       "      <td>-73.938301</td>\n",
       "      <td>40.761227</td>\n",
       "      <td>-73.960938</td>\n",
       "      <td>2</td>\n",
       "    </tr>\n",
       "    <tr>\n",
       "      <th>4</th>\n",
       "      <td>1 Ave &amp; E 110 St</td>\n",
       "      <td>1 Ave &amp; E 68 St</td>\n",
       "      <td>40.792328</td>\n",
       "      <td>-73.938301</td>\n",
       "      <td>40.765007</td>\n",
       "      <td>-73.958183</td>\n",
       "      <td>5</td>\n",
       "    </tr>\n",
       "  </tbody>\n",
       "</table>\n",
       "</div>"
      ],
      "text/plain": [
       "  start_station_name  end_station_name  start_lat  start_lng    end_lat  \\\n",
       "0   1 Ave & E 110 St  1 Ave & E 110 St  40.792328 -73.938301  40.792328   \n",
       "1   1 Ave & E 110 St   1 Ave & E 30 St  40.792328 -73.938301  40.741444   \n",
       "2   1 Ave & E 110 St   1 Ave & E 44 St  40.792328 -73.938301  40.750019   \n",
       "3   1 Ave & E 110 St   1 Ave & E 62 St  40.792328 -73.938301  40.761227   \n",
       "4   1 Ave & E 110 St   1 Ave & E 68 St  40.792328 -73.938301  40.765007   \n",
       "\n",
       "     end_lng  trips  \n",
       "0 -73.938301    223  \n",
       "1 -73.975357      1  \n",
       "2 -73.969055      3  \n",
       "3 -73.960938      2  \n",
       "4 -73.958183      5  "
      ]
     },
     "execution_count": 2,
     "metadata": {},
     "output_type": "execute_result"
    }
   ],
   "source": [
    "# initialize my map \n",
    "df = pd.read_csv(r\"C:\\Users\\Windows\\NYC_bike_sharing\\Project Files\\trip_count_lat_long.csv\", index_col=0)\n",
    "df.head()"
   ]
  },
  {
   "cell_type": "code",
   "execution_count": 3,
   "metadata": {},
   "outputs": [
    {
     "name": "stdout",
     "output_type": "stream",
     "text": [
      "User Guide: https://docs.kepler.gl/docs/keplergl-jupyter\n"
     ]
    }
   ],
   "source": [
    "# Initialize Kepler.gl map\n",
    "map_1 = KeplerGl()\n",
    "\n",
    "# Add your DataFrame to the map\n",
    "map_1.add_data(data=df, name='NYC_Bike_Sharing')\n"
   ]
  },
  {
   "cell_type": "code",
   "execution_count": 4,
   "metadata": {},
   "outputs": [
    {
     "data": {
      "application/vnd.jupyter.widget-view+json": {
       "model_id": "f050055f32694485a964440343f602d8",
       "version_major": 2,
       "version_minor": 0
      },
      "text/plain": [
       "KeplerGl(data={'NYC_Bike_Sharing': {'index': [0, 1, 2, 3, 4, 5, 6, 7, 8, 9, 10, 11, 12, 13, 14, 15, 16, 17, 18…"
      ]
     },
     "metadata": {},
     "output_type": "display_data"
    }
   ],
   "source": [
    "# Display map\n",
    "\n",
    "map_1"
   ]
  },
  {
   "cell_type": "markdown",
   "metadata": {},
   "source": [
    "## Explanation of how and why the settings were chosen to create the map.\n",
    "### Layer 1:  Points were used for start stations using a neutral color.\n",
    "#### Layer 2: Start --> End arc ( source color: blue; target color: yellow)\n",
    "\n",
    "### Why these settings? These settings were chosen because the white/pinkish points are a good contrast against a dark background.Blue and Yellow for starting point and ending point respectively are a good contrast and also they are suitable for those with color blindess. "
   ]
  },
  {
   "cell_type": "code",
   "execution_count": 10,
   "metadata": {},
   "outputs": [],
   "source": [
    "config = map_1.config"
   ]
  },
  {
   "cell_type": "code",
   "execution_count": 12,
   "metadata": {},
   "outputs": [
    {
     "data": {
      "text/plain": [
       "{'version': 'v1',\n",
       " 'config': {'visState': {'filters': [{'dataId': ['NYC_Bike_Sharing'],\n",
       "     'id': 'j5jxr85ys',\n",
       "     'name': ['trips'],\n",
       "     'type': 'range',\n",
       "     'value': [619, 1456],\n",
       "     'enlarged': False,\n",
       "     'plotType': 'histogram',\n",
       "     'animationWindow': 'free',\n",
       "     'yAxis': None,\n",
       "     'speed': 1}],\n",
       "   'layers': [{'id': '6ebrg7r',\n",
       "     'type': 'point',\n",
       "     'config': {'dataId': 'NYC_Bike_Sharing',\n",
       "      'label': 'start',\n",
       "      'color': [253, 226, 216],\n",
       "      'highlightColor': [252, 242, 26, 255],\n",
       "      'columns': {'lat': 'start_lat', 'lng': 'start_lng', 'altitude': None},\n",
       "      'isVisible': True,\n",
       "      'visConfig': {'radius': 10,\n",
       "       'fixedRadius': False,\n",
       "       'opacity': 0.8,\n",
       "       'outline': False,\n",
       "       'thickness': 2,\n",
       "       'strokeColor': None,\n",
       "       'colorRange': {'name': 'Global Warming',\n",
       "        'type': 'sequential',\n",
       "        'category': 'Uber',\n",
       "        'colors': ['#5A1846',\n",
       "         '#900C3F',\n",
       "         '#C70039',\n",
       "         '#E3611C',\n",
       "         '#F1920E',\n",
       "         '#FFC300']},\n",
       "       'strokeColorRange': {'name': 'Global Warming',\n",
       "        'type': 'sequential',\n",
       "        'category': 'Uber',\n",
       "        'colors': ['#5A1846',\n",
       "         '#900C3F',\n",
       "         '#C70039',\n",
       "         '#E3611C',\n",
       "         '#F1920E',\n",
       "         '#FFC300']},\n",
       "       'radiusRange': [0, 50],\n",
       "       'filled': True},\n",
       "      'hidden': False,\n",
       "      'textLabel': [{'field': None,\n",
       "        'color': [255, 255, 255],\n",
       "        'size': 18,\n",
       "        'offset': [0, 0],\n",
       "        'anchor': 'start',\n",
       "        'alignment': 'center'}]},\n",
       "     'visualChannels': {'colorField': None,\n",
       "      'colorScale': 'quantile',\n",
       "      'strokeColorField': None,\n",
       "      'strokeColorScale': 'quantile',\n",
       "      'sizeField': None,\n",
       "      'sizeScale': 'linear'}},\n",
       "    {'id': 'm7k02lr',\n",
       "     'type': 'point',\n",
       "     'config': {'dataId': 'NYC_Bike_Sharing',\n",
       "      'label': 'end',\n",
       "      'color': [221, 178, 124],\n",
       "      'highlightColor': [252, 242, 26, 255],\n",
       "      'columns': {'lat': 'end_lat', 'lng': 'end_lng', 'altitude': None},\n",
       "      'isVisible': False,\n",
       "      'visConfig': {'radius': 10,\n",
       "       'fixedRadius': False,\n",
       "       'opacity': 0.8,\n",
       "       'outline': False,\n",
       "       'thickness': 2,\n",
       "       'strokeColor': None,\n",
       "       'colorRange': {'name': 'Global Warming',\n",
       "        'type': 'sequential',\n",
       "        'category': 'Uber',\n",
       "        'colors': ['#5A1846',\n",
       "         '#900C3F',\n",
       "         '#C70039',\n",
       "         '#E3611C',\n",
       "         '#F1920E',\n",
       "         '#FFC300']},\n",
       "       'strokeColorRange': {'name': 'Global Warming',\n",
       "        'type': 'sequential',\n",
       "        'category': 'Uber',\n",
       "        'colors': ['#5A1846',\n",
       "         '#900C3F',\n",
       "         '#C70039',\n",
       "         '#E3611C',\n",
       "         '#F1920E',\n",
       "         '#FFC300']},\n",
       "       'radiusRange': [0, 50],\n",
       "       'filled': True},\n",
       "      'hidden': False,\n",
       "      'textLabel': [{'field': None,\n",
       "        'color': [255, 255, 255],\n",
       "        'size': 18,\n",
       "        'offset': [0, 0],\n",
       "        'anchor': 'start',\n",
       "        'alignment': 'center'}]},\n",
       "     'visualChannels': {'colorField': {'name': 'trips', 'type': 'integer'},\n",
       "      'colorScale': 'quantile',\n",
       "      'strokeColorField': None,\n",
       "      'strokeColorScale': 'quantile',\n",
       "      'sizeField': None,\n",
       "      'sizeScale': 'linear'}},\n",
       "    {'id': '437su46',\n",
       "     'type': 'arc',\n",
       "     'config': {'dataId': 'NYC_Bike_Sharing',\n",
       "      'label': 'start -> end arc',\n",
       "      'color': [59, 30, 177],\n",
       "      'highlightColor': [252, 242, 26, 255],\n",
       "      'columns': {'lat0': 'start_lat',\n",
       "       'lng0': 'start_lng',\n",
       "       'lat1': 'end_lat',\n",
       "       'lng1': 'end_lng'},\n",
       "      'isVisible': True,\n",
       "      'visConfig': {'opacity': 0.8,\n",
       "       'thickness': 2,\n",
       "       'colorRange': {'name': 'Global Warming',\n",
       "        'type': 'sequential',\n",
       "        'category': 'Uber',\n",
       "        'colors': ['#5A1846',\n",
       "         '#900C3F',\n",
       "         '#C70039',\n",
       "         '#E3611C',\n",
       "         '#F1920E',\n",
       "         '#FFC300']},\n",
       "       'sizeRange': [0, 10],\n",
       "       'targetColor': [219, 231, 101]},\n",
       "      'hidden': False,\n",
       "      'textLabel': [{'field': None,\n",
       "        'color': [255, 255, 255],\n",
       "        'size': 18,\n",
       "        'offset': [0, 0],\n",
       "        'anchor': 'start',\n",
       "        'alignment': 'center'}]},\n",
       "     'visualChannels': {'colorField': None,\n",
       "      'colorScale': 'quantile',\n",
       "      'sizeField': None,\n",
       "      'sizeScale': 'linear'}}],\n",
       "   'interactionConfig': {'tooltip': {'fieldsToShow': {'NYC_Bike_Sharing': [{'name': 'start_station_name',\n",
       "        'format': None},\n",
       "       {'name': 'end_station_name', 'format': None},\n",
       "       {'name': 'trips', 'format': None}]},\n",
       "     'compareMode': False,\n",
       "     'compareType': 'absolute',\n",
       "     'enabled': True},\n",
       "    'brush': {'size': 0.5, 'enabled': False},\n",
       "    'geocoder': {'enabled': False},\n",
       "    'coordinate': {'enabled': False}},\n",
       "   'layerBlending': 'normal',\n",
       "   'splitMaps': [],\n",
       "   'animationConfig': {'currentTime': None, 'speed': 1}},\n",
       "  'mapState': {'bearing': 0,\n",
       "   'dragRotate': False,\n",
       "   'latitude': 40.735561650343804,\n",
       "   'longitude': -74.00935059047346,\n",
       "   'pitch': 0,\n",
       "   'zoom': 11.898860086081456,\n",
       "   'isSplit': False},\n",
       "  'mapStyle': {'styleType': 'dark',\n",
       "   'topLayerGroups': {},\n",
       "   'visibleLayerGroups': {'label': True,\n",
       "    'road': True,\n",
       "    'border': False,\n",
       "    'building': True,\n",
       "    'water': True,\n",
       "    'land': True,\n",
       "    '3d building': False},\n",
       "   'threeDBuildingColor': [9.665468314072013,\n",
       "    17.18305478057247,\n",
       "    31.1442867897876],\n",
       "   'mapStyles': {}}}}"
      ]
     },
     "execution_count": 12,
     "metadata": {},
     "output_type": "execute_result"
    }
   ],
   "source": [
    "config"
   ]
  },
  {
   "cell_type": "code",
   "execution_count": 13,
   "metadata": {},
   "outputs": [],
   "source": [
    "import json\n",
    "with open(\"config.json\", \"w\") as outfile:\n",
    "    json.dump(config, outfile)"
   ]
  },
  {
   "cell_type": "code",
   "execution_count": 14,
   "metadata": {},
   "outputs": [
    {
     "name": "stdout",
     "output_type": "stream",
     "text": [
      "Map saved to NYC Bike Sharing Trips Aggregated.html!\n"
     ]
    }
   ],
   "source": [
    "map_1.save_to_html(file_name = 'NYC Bike Sharing Trips Aggregated.html', read_only = False, config = config)"
   ]
  },
  {
   "cell_type": "code",
   "execution_count": null,
   "metadata": {},
   "outputs": [],
   "source": []
  }
 ],
 "metadata": {
  "kernelspec": {
   "display_name": "Python 3 (ipykernel)",
   "language": "python",
   "name": "python3"
  },
  "language_info": {
   "codemirror_mode": {
    "name": "ipython",
    "version": 3
   },
   "file_extension": ".py",
   "mimetype": "text/x-python",
   "name": "python",
   "nbconvert_exporter": "python",
   "pygments_lexer": "ipython3",
   "version": "3.11.7"
  }
 },
 "nbformat": 4,
 "nbformat_minor": 4
}
