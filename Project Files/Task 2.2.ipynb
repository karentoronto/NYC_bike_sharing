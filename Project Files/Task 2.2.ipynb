{
 "cells": [
  {
   "cell_type": "markdown",
   "id": "9fba686d-eb96-4d5d-b1ea-9bce2a984d8b",
   "metadata": {},
   "source": [
    "## Import libraries"
   ]
  },
  {
   "cell_type": "code",
   "execution_count": 1,
   "id": "79537c83-8543-4ded-9dc7-897e3f1f23a2",
   "metadata": {},
   "outputs": [],
   "source": [
    "import pandas as pd \n",
    "import numpy as np\n",
    "import os \n",
    "import requests\n",
    "import json\n",
    "from datetime import datetime"
   ]
  },
  {
   "cell_type": "markdown",
   "id": "8b5aa1a6-d077-4cca-832f-620b8659621c",
   "metadata": {},
   "source": [
    "## Join Files "
   ]
  },
  {
   "cell_type": "code",
   "execution_count": 2,
   "id": "30c0133b-247a-47b2-8e10-177b5c254f3f",
   "metadata": {},
   "outputs": [],
   "source": [
    "# Create a list with all files in the folder using a list comprehension\n",
    "\n",
    "folderpath = r\"C:\\Users\\Windows\\NYC_bike_sharing\\Original Data\" \n",
    "filepaths  = [os.path.join(folderpath, name) for name in os.listdir(folderpath)]"
   ]
  },
  {
   "cell_type": "code",
   "execution_count": 3,
   "id": "9329cd32-65ff-4f46-bc4d-ab76a0cc9656",
   "metadata": {},
   "outputs": [
    {
     "name": "stdout",
     "output_type": "stream",
     "text": [
      "First three file paths:\n",
      "C:\\Users\\Windows\\NYC_bike_sharing\\Original Data\\202201-citibike-tripdata_1.csv\n",
      "C:\\Users\\Windows\\NYC_bike_sharing\\Original Data\\202201-citibike-tripdata_2.csv\n",
      "C:\\Users\\Windows\\NYC_bike_sharing\\Original Data\\202202-citibike-tripdata_1.csv\n"
     ]
    }
   ],
   "source": [
    "# verifying the filepaths\n",
    "print(\"First three file paths:\")\n",
    "for filepath in filepaths[:3]:\n",
    "    print(filepath)"
   ]
  },
  {
   "cell_type": "markdown",
   "id": "ed2b86c7-cc37-4ba7-bb1b-4cc2832b4ee4",
   "metadata": {},
   "source": [
    "## Concatenate bike data for the first 6 months of 2022"
   ]
  },
  {
   "cell_type": "code",
   "execution_count": 4,
   "id": "d62008f6-6283-46e6-b32a-8498515abcfe",
   "metadata": {},
   "outputs": [
    {
     "name": "stderr",
     "output_type": "stream",
     "text": [
      "C:\\Users\\Windows\\AppData\\Local\\Temp\\ipykernel_3368\\1593145546.py:5: DtypeWarning: Columns (5,7) have mixed types. Specify dtype option on import or set low_memory=False.\n",
      "  df = pd.read_csv(filepath)\n",
      "C:\\Users\\Windows\\AppData\\Local\\Temp\\ipykernel_3368\\1593145546.py:5: DtypeWarning: Columns (5,7) have mixed types. Specify dtype option on import or set low_memory=False.\n",
      "  df = pd.read_csv(filepath)\n",
      "C:\\Users\\Windows\\AppData\\Local\\Temp\\ipykernel_3368\\1593145546.py:5: DtypeWarning: Columns (5,7) have mixed types. Specify dtype option on import or set low_memory=False.\n",
      "  df = pd.read_csv(filepath)\n",
      "C:\\Users\\Windows\\AppData\\Local\\Temp\\ipykernel_3368\\1593145546.py:5: DtypeWarning: Columns (5,7) have mixed types. Specify dtype option on import or set low_memory=False.\n",
      "  df = pd.read_csv(filepath)\n",
      "C:\\Users\\Windows\\AppData\\Local\\Temp\\ipykernel_3368\\1593145546.py:5: DtypeWarning: Columns (5,7) have mixed types. Specify dtype option on import or set low_memory=False.\n",
      "  df = pd.read_csv(filepath)\n",
      "C:\\Users\\Windows\\AppData\\Local\\Temp\\ipykernel_3368\\1593145546.py:5: DtypeWarning: Columns (5,7) have mixed types. Specify dtype option on import or set low_memory=False.\n",
      "  df = pd.read_csv(filepath)\n",
      "C:\\Users\\Windows\\AppData\\Local\\Temp\\ipykernel_3368\\1593145546.py:5: DtypeWarning: Columns (5,7) have mixed types. Specify dtype option on import or set low_memory=False.\n",
      "  df = pd.read_csv(filepath)\n",
      "C:\\Users\\Windows\\AppData\\Local\\Temp\\ipykernel_3368\\1593145546.py:5: DtypeWarning: Columns (5,7) have mixed types. Specify dtype option on import or set low_memory=False.\n",
      "  df = pd.read_csv(filepath)\n",
      "C:\\Users\\Windows\\AppData\\Local\\Temp\\ipykernel_3368\\1593145546.py:5: DtypeWarning: Columns (5,7) have mixed types. Specify dtype option on import or set low_memory=False.\n",
      "  df = pd.read_csv(filepath)\n",
      "C:\\Users\\Windows\\AppData\\Local\\Temp\\ipykernel_3368\\1593145546.py:5: DtypeWarning: Columns (5,7) have mixed types. Specify dtype option on import or set low_memory=False.\n",
      "  df = pd.read_csv(filepath)\n",
      "C:\\Users\\Windows\\AppData\\Local\\Temp\\ipykernel_3368\\1593145546.py:5: DtypeWarning: Columns (5) have mixed types. Specify dtype option on import or set low_memory=False.\n",
      "  df = pd.read_csv(filepath)\n",
      "C:\\Users\\Windows\\AppData\\Local\\Temp\\ipykernel_3368\\1593145546.py:5: DtypeWarning: Columns (5,7) have mixed types. Specify dtype option on import or set low_memory=False.\n",
      "  df = pd.read_csv(filepath)\n",
      "C:\\Users\\Windows\\AppData\\Local\\Temp\\ipykernel_3368\\1593145546.py:5: DtypeWarning: Columns (5,7) have mixed types. Specify dtype option on import or set low_memory=False.\n",
      "  df = pd.read_csv(filepath)\n",
      "C:\\Users\\Windows\\AppData\\Local\\Temp\\ipykernel_3368\\1593145546.py:5: DtypeWarning: Columns (5,7) have mixed types. Specify dtype option on import or set low_memory=False.\n",
      "  df = pd.read_csv(filepath)\n"
     ]
    },
    {
     "data": {
      "text/html": [
       "<div>\n",
       "<style scoped>\n",
       "    .dataframe tbody tr th:only-of-type {\n",
       "        vertical-align: middle;\n",
       "    }\n",
       "\n",
       "    .dataframe tbody tr th {\n",
       "        vertical-align: top;\n",
       "    }\n",
       "\n",
       "    .dataframe thead th {\n",
       "        text-align: right;\n",
       "    }\n",
       "</style>\n",
       "<table border=\"1\" class=\"dataframe\">\n",
       "  <thead>\n",
       "    <tr style=\"text-align: right;\">\n",
       "      <th></th>\n",
       "      <th>ride_id</th>\n",
       "      <th>rideable_type</th>\n",
       "      <th>started_at</th>\n",
       "      <th>ended_at</th>\n",
       "      <th>start_station_name</th>\n",
       "      <th>start_station_id</th>\n",
       "      <th>end_station_name</th>\n",
       "      <th>end_station_id</th>\n",
       "      <th>start_lat</th>\n",
       "      <th>start_lng</th>\n",
       "      <th>end_lat</th>\n",
       "      <th>end_lng</th>\n",
       "      <th>member_casual</th>\n",
       "    </tr>\n",
       "  </thead>\n",
       "  <tbody>\n",
       "    <tr>\n",
       "      <th>0</th>\n",
       "      <td>55262E4365A955A2</td>\n",
       "      <td>classic_bike</td>\n",
       "      <td>2022-01-18 08:23:52</td>\n",
       "      <td>2022-01-18 08:28:18</td>\n",
       "      <td>Boerum Pl\\t&amp; Pacific St</td>\n",
       "      <td>4488.09</td>\n",
       "      <td>Clinton St &amp; Joralemon St</td>\n",
       "      <td>4605.04</td>\n",
       "      <td>40.688489</td>\n",
       "      <td>-73.991160</td>\n",
       "      <td>40.692395</td>\n",
       "      <td>-73.993379</td>\n",
       "      <td>member</td>\n",
       "    </tr>\n",
       "    <tr>\n",
       "      <th>1</th>\n",
       "      <td>D272F1B15D841EC0</td>\n",
       "      <td>classic_bike</td>\n",
       "      <td>2022-01-21 09:03:22</td>\n",
       "      <td>2022-01-21 09:05:44</td>\n",
       "      <td>E 12 St &amp; Ave C</td>\n",
       "      <td>5616.08</td>\n",
       "      <td>E 10 St &amp; Avenue A</td>\n",
       "      <td>5659.05</td>\n",
       "      <td>40.727243</td>\n",
       "      <td>-73.976831</td>\n",
       "      <td>40.727408</td>\n",
       "      <td>-73.981420</td>\n",
       "      <td>member</td>\n",
       "    </tr>\n",
       "    <tr>\n",
       "      <th>2</th>\n",
       "      <td>D1FCEF55EB4A807F</td>\n",
       "      <td>classic_bike</td>\n",
       "      <td>2022-01-22 14:28:32</td>\n",
       "      <td>2022-01-22 14:53:18</td>\n",
       "      <td>W 21 St &amp; 6 Ave</td>\n",
       "      <td>6140.05</td>\n",
       "      <td>W 44 St &amp; 11 Ave</td>\n",
       "      <td>6756.05</td>\n",
       "      <td>40.741740</td>\n",
       "      <td>-73.994156</td>\n",
       "      <td>40.762009</td>\n",
       "      <td>-73.996975</td>\n",
       "      <td>member</td>\n",
       "    </tr>\n",
       "  </tbody>\n",
       "</table>\n",
       "</div>"
      ],
      "text/plain": [
       "            ride_id rideable_type           started_at             ended_at  \\\n",
       "0  55262E4365A955A2  classic_bike  2022-01-18 08:23:52  2022-01-18 08:28:18   \n",
       "1  D272F1B15D841EC0  classic_bike  2022-01-21 09:03:22  2022-01-21 09:05:44   \n",
       "2  D1FCEF55EB4A807F  classic_bike  2022-01-22 14:28:32  2022-01-22 14:53:18   \n",
       "\n",
       "        start_station_name start_station_id           end_station_name  \\\n",
       "0  Boerum Pl\\t& Pacific St          4488.09  Clinton St & Joralemon St   \n",
       "1          E 12 St & Ave C          5616.08         E 10 St & Avenue A   \n",
       "2          W 21 St & 6 Ave          6140.05           W 44 St & 11 Ave   \n",
       "\n",
       "  end_station_id  start_lat  start_lng    end_lat    end_lng member_casual  \n",
       "0        4605.04  40.688489 -73.991160  40.692395 -73.993379        member  \n",
       "1        5659.05  40.727243 -73.976831  40.727408 -73.981420        member  \n",
       "2        6756.05  40.741740 -73.994156  40.762009 -73.996975        member  "
      ]
     },
     "execution_count": 4,
     "metadata": {},
     "output_type": "execute_result"
    }
   ],
   "source": [
    "# Function to read and clean CSV files\n",
    "def read_and_clean_csv(filepath):\n",
    "    try:\n",
    "        # Read the CSV file\n",
    "        df = pd.read_csv(filepath)\n",
    "        # Replace \\n characters with spaces in all string columns\n",
    "        df = df.replace({r'\\n': ''}, regex=True)\n",
    "        return df\n",
    "    except pd.errors.ParserError as e:\n",
    "        print(f\"Error reading {filepath}: {e}\")\n",
    "        return pd.DataFrame()  # Return an empty DataFrame on error\n",
    "\n",
    "# Concatenate the first 16 files into one DataFrame\n",
    "dfs = [read_and_clean_csv(f) for f in filepaths[:16]]\n",
    "df = pd.concat(dfs, ignore_index=True)\n",
    "\n",
    "df.head(3)\n",
    "\n"
   ]
  },
  {
   "cell_type": "markdown",
   "id": "762fda27-7c5d-4d62-8827-3814414f6b3e",
   "metadata": {},
   "source": [
    "# Explanation of the Code for Joining the File Paths and Concatenating the First 6 months of NYC bike sharing datasets"
   ]
  },
  {
   "cell_type": "markdown",
   "id": "ad9f3408-0972-4c27-82f0-e8923c2a89e4",
   "metadata": {},
   "source": [
    "## How Joining Files Works\n",
    "#### To read all the files at once in JupyterLab, list comprehension was used to make a list of files in the folder path. The logic is as follows:\n",
    "\n",
    "#### folderpath = r\"C:\\Users\\Windows\\NYC_bike_sharing\\Original Data\" (This is the file path where the files of the bike data are stored for the first 6 months of 2022.\n",
    "\n",
    "#### filepaths  = [os.path.join(folderpath, name) for name in os.listdir(folderpath)] (This code uses list comprehension to to create the list of file paths containing the paths of all the files  in the folder \"C:\\Users\\Windows\\NYC_bike_sharing\\Original Data\"\n",
    "\n",
    "#### The string os.listdir(folderpath) is a method that returns a list of all files and directories in the folderpath directory. \n",
    "#### This returns the list of files (all 16 csv files of the bike data). The code \"for name in os.listdir(folderpath)\" loops through each name in the list returned by os.listdir(folderpath). \n",
    "\n",
    "#### The code \"os.path.join (folderpath, name)\" is used to join the folderpath and name together to create a full file path.\n",
    "h."
   ]
  },
  {
   "cell_type": "markdown",
   "id": "0034a101-a24a-4652-89ec-20cf2945cdae",
   "metadata": {},
   "source": [
    "## How Concatenating the Datasets Works\n",
    "####  def read_and_clean_csv(filepath) (This function is used to clean the dataset by using a regular expression to find newline characters in all string columns and replacing them with spaces, effectively removing them. The 'try-except' block is used to handle exceptions that might occur while reading the csv file. It helps in catching and managing errors.) \n",
    "#### dfs = [read_and_clean_csv(f) for f in filepaths[:16]] (This line uses a list comprehension to apply the read_and_clean_csv function to each of the first 16 file paths for 16 csv files for the 6 months of data in 2022 in the filepaths list. It creates a list of DataFrames (dfs), each corresponding to one of the cleaned CSV files.)\n",
    "#### df = pd.concat(dfs, ignore_index=True)  (This is also known as a generator. This line concatenates all the DataFrames in the dfs list into a single DataFrame named df. The ignore_index=True parameter ensures that the index of the resulting DataFrame is reset, creating a new continuous index for the combined DataFrame.)"
   ]
  },
  {
   "cell_type": "code",
   "execution_count": 5,
   "id": "401ff5eb-fa88-4509-88cd-6a5dda8db136",
   "metadata": {},
   "outputs": [],
   "source": [
    "# Exporting bike data as csv\n",
    "path = r'C:\\Users\\Windows\\NYC_bike_sharing\\Project Files'"
   ]
  },
  {
   "cell_type": "code",
   "execution_count": 6,
   "id": "68cce09a-d8a5-44a6-808f-ce11f67762c4",
   "metadata": {},
   "outputs": [],
   "source": [
    "df.to_csv(os.path.join(path, 'bike_data_2022_half.csv'))"
   ]
  },
  {
   "cell_type": "markdown",
   "id": "2e727884-eabe-416e-8b31-cfaf3373a7d0",
   "metadata": {},
   "source": [
    "## Getting Weather Data from NOAA's API"
   ]
  },
  {
   "cell_type": "code",
   "execution_count": 7,
   "id": "e46cb7c2-1e8b-4849-a4b1-474b8c907a02",
   "metadata": {},
   "outputs": [],
   "source": [
    "# Define token -\n",
    "\n",
    "Token = 'TKmtmOYRCjDxWomRfIwtehlfnhRoeWJk'"
   ]
  },
  {
   "cell_type": "code",
   "execution_count": 8,
   "id": "07f3f5c6-0f7e-45ff-9378-6378597d5c31",
   "metadata": {},
   "outputs": [],
   "source": [
    "# Get the API \n",
    "\n",
    "r = requests.get('https://www.ncdc.noaa.gov/cdo-web/api/v2/data?datasetid=GHCND&datatypeid=TAVG&limit=1000&stationid=GHCND:USW00014732&startdate=2022-01-01&enddate=2022-06-30', headers={'token':Token})"
   ]
  },
  {
   "cell_type": "code",
   "execution_count": 9,
   "id": "5173b5c1-1103-42f3-8adb-617779c8def6",
   "metadata": {},
   "outputs": [],
   "source": [
    "# Load the api response as a json\n",
    "\n",
    "d = json.loads(r.text)"
   ]
  },
  {
   "cell_type": "code",
   "execution_count": 10,
   "id": "93fe230e-7503-40ae-8e22-92d8da50cf4a",
   "metadata": {},
   "outputs": [
    {
     "name": "stdout",
     "output_type": "stream",
     "text": [
      "Data is present.\n"
     ]
    }
   ],
   "source": [
    "# Check if there is any data\n",
    "if d:\n",
    "    print(\"Data is present.\")\n",
    "else:\n",
    "    print(\"Data is empty or None.\")"
   ]
  },
  {
   "cell_type": "code",
   "execution_count": 11,
   "id": "629722db-deb6-4cb6-b9c6-7dd6da543418",
   "metadata": {},
   "outputs": [],
   "source": [
    "# Secure all items in the response that correspond to TAVG\n",
    "\n",
    "avg_temps = [item for item in d['results'] if item['datatype']=='TAVG']"
   ]
  },
  {
   "cell_type": "code",
   "execution_count": 12,
   "id": "e45db31b-e110-4bde-871f-c0b6ede015d5",
   "metadata": {},
   "outputs": [],
   "source": [
    "# Get only the date field from all average temperature readings\n",
    "\n",
    "dates_temp = [item['date'] for item in avg_temps]"
   ]
  },
  {
   "cell_type": "code",
   "execution_count": 13,
   "id": "1604a1b9-9914-4961-998d-229b9ec5c5ad",
   "metadata": {},
   "outputs": [],
   "source": [
    "# Get the temperature from all average temperature readings\n",
    "\n",
    "temps = [item['value'] for item in avg_temps]"
   ]
  },
  {
   "cell_type": "code",
   "execution_count": 14,
   "id": "01201387-005e-4a7b-af66-fc8aa46302f5",
   "metadata": {},
   "outputs": [
    {
     "data": {
      "text/plain": [
       "[116, 114, 14]"
      ]
     },
     "execution_count": 14,
     "metadata": {},
     "output_type": "execute_result"
    }
   ],
   "source": [
    "temps[:3]"
   ]
  },
  {
   "cell_type": "code",
   "execution_count": 15,
   "id": "24169557-7556-4d85-a3e3-9923fc9fbdb3",
   "metadata": {},
   "outputs": [],
   "source": [
    "# Put the results in a dataframe\n",
    "\n",
    "df_temps = pd.DataFrame()"
   ]
  },
  {
   "cell_type": "code",
   "execution_count": 16,
   "id": "80194568-ba6e-448b-a396-6bfc4022a74d",
   "metadata": {},
   "outputs": [],
   "source": [
    "# Get only date and cast it to date time; convert temperature from tenths of Celsius to normal Celsius\n",
    "\n",
    "df_temps['date'] = [datetime.strptime(d, \"%Y-%m-%dT%H:%M:%S\") for d in dates_temp]\n",
    "df_temps['average_temp'] = [float(v)/10.0 for v in temps]"
   ]
  },
  {
   "cell_type": "code",
   "execution_count": 17,
   "id": "64ddad49-5b47-4e32-b8f1-0ea03412ad84",
   "metadata": {},
   "outputs": [
    {
     "data": {
      "text/html": [
       "<div>\n",
       "<style scoped>\n",
       "    .dataframe tbody tr th:only-of-type {\n",
       "        vertical-align: middle;\n",
       "    }\n",
       "\n",
       "    .dataframe tbody tr th {\n",
       "        vertical-align: top;\n",
       "    }\n",
       "\n",
       "    .dataframe thead th {\n",
       "        text-align: right;\n",
       "    }\n",
       "</style>\n",
       "<table border=\"1\" class=\"dataframe\">\n",
       "  <thead>\n",
       "    <tr style=\"text-align: right;\">\n",
       "      <th></th>\n",
       "      <th>date</th>\n",
       "      <th>average_temp</th>\n",
       "    </tr>\n",
       "  </thead>\n",
       "  <tbody>\n",
       "    <tr>\n",
       "      <th>0</th>\n",
       "      <td>2022-01-01</td>\n",
       "      <td>11.6</td>\n",
       "    </tr>\n",
       "    <tr>\n",
       "      <th>1</th>\n",
       "      <td>2022-01-02</td>\n",
       "      <td>11.4</td>\n",
       "    </tr>\n",
       "    <tr>\n",
       "      <th>2</th>\n",
       "      <td>2022-01-03</td>\n",
       "      <td>1.4</td>\n",
       "    </tr>\n",
       "  </tbody>\n",
       "</table>\n",
       "</div>"
      ],
      "text/plain": [
       "        date  average_temp\n",
       "0 2022-01-01          11.6\n",
       "1 2022-01-02          11.4\n",
       "2 2022-01-03           1.4"
      ]
     },
     "execution_count": 17,
     "metadata": {},
     "output_type": "execute_result"
    }
   ],
   "source": [
    "df_temps.head(3)"
   ]
  },
  {
   "cell_type": "code",
   "execution_count": 18,
   "id": "0e6e9dc1-cd45-4627-928a-38cb7a8df1c5",
   "metadata": {},
   "outputs": [],
   "source": [
    "# export temperature data as csv\n",
    "df_temps.to_csv(os.path.join(path, 'laguardia_temps_2022_first_half.csv'))"
   ]
  },
  {
   "cell_type": "code",
   "execution_count": 19,
   "id": "5335c73e-6d6f-4c9e-8876-b148aeb18726",
   "metadata": {},
   "outputs": [
    {
     "data": {
      "text/plain": [
       "date            datetime64[ns]\n",
       "average_temp           float64\n",
       "dtype: object"
      ]
     },
     "execution_count": 19,
     "metadata": {},
     "output_type": "execute_result"
    }
   ],
   "source": [
    "# checking data types in the temperate dataset\n",
    "df_temps.dtypes"
   ]
  },
  {
   "cell_type": "markdown",
   "id": "b4c9aab6-c087-4aeb-8af5-bad2fe10e5c4",
   "metadata": {},
   "source": [
    "## Cleaning the Bike Sharing Datasets "
   ]
  },
  {
   "cell_type": "code",
   "execution_count": 20,
   "id": "ce895085-7c49-4ec6-9ed6-5662fc6d3f32",
   "metadata": {},
   "outputs": [
    {
     "data": {
      "text/plain": [
       "ride_id                object\n",
       "rideable_type          object\n",
       "started_at             object\n",
       "ended_at               object\n",
       "start_station_name     object\n",
       "start_station_id       object\n",
       "end_station_name       object\n",
       "end_station_id         object\n",
       "start_lat             float64\n",
       "start_lng             float64\n",
       "end_lat               float64\n",
       "end_lng               float64\n",
       "member_casual          object\n",
       "dtype: object"
      ]
     },
     "execution_count": 20,
     "metadata": {},
     "output_type": "execute_result"
    }
   ],
   "source": [
    "# checking data types in the bike dataset\n",
    "df.dtypes"
   ]
  },
  {
   "cell_type": "code",
   "execution_count": 22,
   "id": "84beecc5-c69f-430d-bfc4-6663528b7bc4",
   "metadata": {},
   "outputs": [
    {
     "name": "stderr",
     "output_type": "stream",
     "text": [
      "C:\\Users\\Windows\\AppData\\Local\\Temp\\ipykernel_3368\\1953011556.py:1: UserWarning: Parsing dates in %Y-%m-%d %H:%M:%S format when dayfirst=True was specified. Pass `dayfirst=False` or specify a format to silence this warning.\n",
      "  df['started_at'] = pd.to_datetime(df['started_at'], dayfirst = True)\n"
     ]
    }
   ],
   "source": [
    "# convert the variable \"started_at\" to the datetime data type. \n",
    "df['started_at'] = pd.to_datetime(df['started_at'], dayfirst = True)"
   ]
  },
  {
   "cell_type": "code",
   "execution_count": 23,
   "id": "dfc4ed5e-e661-4ff1-b50d-05e7b9f92a07",
   "metadata": {},
   "outputs": [
    {
     "name": "stderr",
     "output_type": "stream",
     "text": [
      "C:\\Users\\Windows\\AppData\\Local\\Temp\\ipykernel_3368\\823480926.py:1: UserWarning: Parsing dates in %Y-%m-%d %H:%M:%S format when dayfirst=True was specified. Pass `dayfirst=False` or specify a format to silence this warning.\n",
      "  df['ended_at'] = pd.to_datetime(df['ended_at'], dayfirst = True)\n"
     ]
    }
   ],
   "source": [
    "# convert the variable \"ended_at\" to the datetime data type. \n",
    "df['ended_at'] = pd.to_datetime(df['ended_at'], dayfirst = True)"
   ]
  },
  {
   "cell_type": "code",
   "execution_count": 24,
   "id": "77658007-e599-4830-acec-1f5ac35dda14",
   "metadata": {},
   "outputs": [
    {
     "data": {
      "text/plain": [
       "ride_id                       object\n",
       "rideable_type                 object\n",
       "started_at            datetime64[ns]\n",
       "ended_at              datetime64[ns]\n",
       "start_station_name            object\n",
       "start_station_id              object\n",
       "end_station_name              object\n",
       "end_station_id                object\n",
       "start_lat                    float64\n",
       "start_lng                    float64\n",
       "end_lat                      float64\n",
       "end_lng                      float64\n",
       "member_casual                 object\n",
       "dtype: object"
      ]
     },
     "execution_count": 24,
     "metadata": {},
     "output_type": "execute_result"
    }
   ],
   "source": [
    "# re-verify data types \n",
    "df.dtypes"
   ]
  },
  {
   "cell_type": "code",
   "execution_count": 26,
   "id": "387af416-00b9-46e0-b562-c619b34d0867",
   "metadata": {},
   "outputs": [],
   "source": [
    "# Extract the date from the column \"started_at\" to create a new \"date\" column, which will be the common key between the bike data set and the weather data\n",
    "df['date'] = pd.to_datetime(df['started_at'], format='%Y-%m-%d').dt.date"
   ]
  },
  {
   "cell_type": "code",
   "execution_count": 28,
   "id": "f5a183db-3ea1-4029-908e-9cd1f1782366",
   "metadata": {},
   "outputs": [
    {
     "data": {
      "text/html": [
       "<div>\n",
       "<style scoped>\n",
       "    .dataframe tbody tr th:only-of-type {\n",
       "        vertical-align: middle;\n",
       "    }\n",
       "\n",
       "    .dataframe tbody tr th {\n",
       "        vertical-align: top;\n",
       "    }\n",
       "\n",
       "    .dataframe thead th {\n",
       "        text-align: right;\n",
       "    }\n",
       "</style>\n",
       "<table border=\"1\" class=\"dataframe\">\n",
       "  <thead>\n",
       "    <tr style=\"text-align: right;\">\n",
       "      <th></th>\n",
       "      <th>ride_id</th>\n",
       "      <th>rideable_type</th>\n",
       "      <th>started_at</th>\n",
       "      <th>ended_at</th>\n",
       "      <th>start_station_name</th>\n",
       "      <th>start_station_id</th>\n",
       "      <th>end_station_name</th>\n",
       "      <th>end_station_id</th>\n",
       "      <th>start_lat</th>\n",
       "      <th>start_lng</th>\n",
       "      <th>end_lat</th>\n",
       "      <th>end_lng</th>\n",
       "      <th>member_casual</th>\n",
       "      <th>date</th>\n",
       "    </tr>\n",
       "  </thead>\n",
       "  <tbody>\n",
       "    <tr>\n",
       "      <th>0</th>\n",
       "      <td>55262E4365A955A2</td>\n",
       "      <td>classic_bike</td>\n",
       "      <td>2022-01-18 08:23:52</td>\n",
       "      <td>2022-01-18 08:28:18</td>\n",
       "      <td>Boerum Pl\\t&amp; Pacific St</td>\n",
       "      <td>4488.09</td>\n",
       "      <td>Clinton St &amp; Joralemon St</td>\n",
       "      <td>4605.04</td>\n",
       "      <td>40.688489</td>\n",
       "      <td>-73.991160</td>\n",
       "      <td>40.692395</td>\n",
       "      <td>-73.993379</td>\n",
       "      <td>member</td>\n",
       "      <td>2022-01-18</td>\n",
       "    </tr>\n",
       "    <tr>\n",
       "      <th>1</th>\n",
       "      <td>D272F1B15D841EC0</td>\n",
       "      <td>classic_bike</td>\n",
       "      <td>2022-01-21 09:03:22</td>\n",
       "      <td>2022-01-21 09:05:44</td>\n",
       "      <td>E 12 St &amp; Ave C</td>\n",
       "      <td>5616.08</td>\n",
       "      <td>E 10 St &amp; Avenue A</td>\n",
       "      <td>5659.05</td>\n",
       "      <td>40.727243</td>\n",
       "      <td>-73.976831</td>\n",
       "      <td>40.727408</td>\n",
       "      <td>-73.981420</td>\n",
       "      <td>member</td>\n",
       "      <td>2022-01-21</td>\n",
       "    </tr>\n",
       "    <tr>\n",
       "      <th>2</th>\n",
       "      <td>D1FCEF55EB4A807F</td>\n",
       "      <td>classic_bike</td>\n",
       "      <td>2022-01-22 14:28:32</td>\n",
       "      <td>2022-01-22 14:53:18</td>\n",
       "      <td>W 21 St &amp; 6 Ave</td>\n",
       "      <td>6140.05</td>\n",
       "      <td>W 44 St &amp; 11 Ave</td>\n",
       "      <td>6756.05</td>\n",
       "      <td>40.741740</td>\n",
       "      <td>-73.994156</td>\n",
       "      <td>40.762009</td>\n",
       "      <td>-73.996975</td>\n",
       "      <td>member</td>\n",
       "      <td>2022-01-22</td>\n",
       "    </tr>\n",
       "  </tbody>\n",
       "</table>\n",
       "</div>"
      ],
      "text/plain": [
       "            ride_id rideable_type          started_at            ended_at  \\\n",
       "0  55262E4365A955A2  classic_bike 2022-01-18 08:23:52 2022-01-18 08:28:18   \n",
       "1  D272F1B15D841EC0  classic_bike 2022-01-21 09:03:22 2022-01-21 09:05:44   \n",
       "2  D1FCEF55EB4A807F  classic_bike 2022-01-22 14:28:32 2022-01-22 14:53:18   \n",
       "\n",
       "        start_station_name start_station_id           end_station_name  \\\n",
       "0  Boerum Pl\\t& Pacific St          4488.09  Clinton St & Joralemon St   \n",
       "1          E 12 St & Ave C          5616.08         E 10 St & Avenue A   \n",
       "2          W 21 St & 6 Ave          6140.05           W 44 St & 11 Ave   \n",
       "\n",
       "  end_station_id  start_lat  start_lng    end_lat    end_lng member_casual  \\\n",
       "0        4605.04  40.688489 -73.991160  40.692395 -73.993379        member   \n",
       "1        5659.05  40.727243 -73.976831  40.727408 -73.981420        member   \n",
       "2        6756.05  40.741740 -73.994156  40.762009 -73.996975        member   \n",
       "\n",
       "         date  \n",
       "0  2022-01-18  \n",
       "1  2022-01-21  \n",
       "2  2022-01-22  "
      ]
     },
     "execution_count": 28,
     "metadata": {},
     "output_type": "execute_result"
    }
   ],
   "source": [
    "# verify that the \"date'column has been added.\n",
    "df.head(3)"
   ]
  },
  {
   "cell_type": "code",
   "execution_count": 31,
   "id": "81a6498a-63de-4219-b16a-c6fc47dbf0af",
   "metadata": {},
   "outputs": [],
   "source": [
    "# Ensure that the data type of \"date\" column matches that of the \"date\" column in df_temps\n",
    "df['date'] = pd.to_datetime(df['date'])"
   ]
  },
  {
   "cell_type": "code",
   "execution_count": 32,
   "id": "a17bce88-711d-40af-b1ca-e3452f32534b",
   "metadata": {},
   "outputs": [
    {
     "data": {
      "text/plain": [
       "ride_id                       object\n",
       "rideable_type                 object\n",
       "started_at            datetime64[ns]\n",
       "ended_at              datetime64[ns]\n",
       "start_station_name            object\n",
       "start_station_id              object\n",
       "end_station_name              object\n",
       "end_station_id                object\n",
       "start_lat                    float64\n",
       "start_lng                    float64\n",
       "end_lat                      float64\n",
       "end_lng                      float64\n",
       "member_casual                 object\n",
       "date                  datetime64[ns]\n",
       "dtype: object"
      ]
     },
     "execution_count": 32,
     "metadata": {},
     "output_type": "execute_result"
    }
   ],
   "source": [
    "df.dtypes"
   ]
  },
  {
   "cell_type": "markdown",
   "id": "a37d0c2e-471e-4ea5-afba-fc475469a242",
   "metadata": {},
   "source": [
    "## Merging the Bike Sharing Dataset with the Temperature Dataset "
   ]
  },
  {
   "cell_type": "code",
   "execution_count": 33,
   "id": "d5fdfdbd-c10e-4e77-98bc-3fa9d9bbd32e",
   "metadata": {},
   "outputs": [
    {
     "name": "stdout",
     "output_type": "stream",
     "text": [
      "CPU times: total: 48.2 s\n",
      "Wall time: 1min 26s\n"
     ]
    }
   ],
   "source": [
    "# Merging the bike dataset with weather data (df_temps)\n",
    "%%time\n",
    "df_merged = df.merge(df_temps, how = 'left', on = 'date', indicator = True) "
   ]
  },
  {
   "cell_type": "code",
   "execution_count": 34,
   "id": "47e8496a-3611-4d01-8dde-377ef9ac3a30",
   "metadata": {},
   "outputs": [
    {
     "data": {
      "text/plain": [
       "_merge\n",
       "both          12872672\n",
       "left_only            0\n",
       "right_only           0\n",
       "Name: count, dtype: int64"
      ]
     },
     "execution_count": 34,
     "metadata": {},
     "output_type": "execute_result"
    }
   ],
   "source": [
    "# checking to see if there is 100% match between the datasets\n",
    "df_merged['_merge'].value_counts(dropna = False)"
   ]
  },
  {
   "cell_type": "code",
   "execution_count": 36,
   "id": "1665a305-3b10-417e-916f-fef87a6af0f8",
   "metadata": {},
   "outputs": [
    {
     "data": {
      "text/html": [
       "<div>\n",
       "<style scoped>\n",
       "    .dataframe tbody tr th:only-of-type {\n",
       "        vertical-align: middle;\n",
       "    }\n",
       "\n",
       "    .dataframe tbody tr th {\n",
       "        vertical-align: top;\n",
       "    }\n",
       "\n",
       "    .dataframe thead th {\n",
       "        text-align: right;\n",
       "    }\n",
       "</style>\n",
       "<table border=\"1\" class=\"dataframe\">\n",
       "  <thead>\n",
       "    <tr style=\"text-align: right;\">\n",
       "      <th></th>\n",
       "      <th>ride_id</th>\n",
       "      <th>rideable_type</th>\n",
       "      <th>started_at</th>\n",
       "      <th>ended_at</th>\n",
       "      <th>start_station_name</th>\n",
       "      <th>start_station_id</th>\n",
       "      <th>end_station_name</th>\n",
       "      <th>end_station_id</th>\n",
       "      <th>start_lat</th>\n",
       "      <th>start_lng</th>\n",
       "      <th>end_lat</th>\n",
       "      <th>end_lng</th>\n",
       "      <th>member_casual</th>\n",
       "      <th>date</th>\n",
       "      <th>average_temp</th>\n",
       "      <th>_merge</th>\n",
       "    </tr>\n",
       "  </thead>\n",
       "  <tbody>\n",
       "    <tr>\n",
       "      <th>0</th>\n",
       "      <td>55262E4365A955A2</td>\n",
       "      <td>classic_bike</td>\n",
       "      <td>2022-01-18 08:23:52</td>\n",
       "      <td>2022-01-18 08:28:18</td>\n",
       "      <td>Boerum Pl\\t&amp; Pacific St</td>\n",
       "      <td>4488.09</td>\n",
       "      <td>Clinton St &amp; Joralemon St</td>\n",
       "      <td>4605.04</td>\n",
       "      <td>40.688489</td>\n",
       "      <td>-73.991160</td>\n",
       "      <td>40.692395</td>\n",
       "      <td>-73.993379</td>\n",
       "      <td>member</td>\n",
       "      <td>2022-01-18</td>\n",
       "      <td>1.8</td>\n",
       "      <td>both</td>\n",
       "    </tr>\n",
       "    <tr>\n",
       "      <th>1</th>\n",
       "      <td>D272F1B15D841EC0</td>\n",
       "      <td>classic_bike</td>\n",
       "      <td>2022-01-21 09:03:22</td>\n",
       "      <td>2022-01-21 09:05:44</td>\n",
       "      <td>E 12 St &amp; Ave C</td>\n",
       "      <td>5616.08</td>\n",
       "      <td>E 10 St &amp; Avenue A</td>\n",
       "      <td>5659.05</td>\n",
       "      <td>40.727243</td>\n",
       "      <td>-73.976831</td>\n",
       "      <td>40.727408</td>\n",
       "      <td>-73.981420</td>\n",
       "      <td>member</td>\n",
       "      <td>2022-01-21</td>\n",
       "      <td>-6.0</td>\n",
       "      <td>both</td>\n",
       "    </tr>\n",
       "    <tr>\n",
       "      <th>2</th>\n",
       "      <td>D1FCEF55EB4A807F</td>\n",
       "      <td>classic_bike</td>\n",
       "      <td>2022-01-22 14:28:32</td>\n",
       "      <td>2022-01-22 14:53:18</td>\n",
       "      <td>W 21 St &amp; 6 Ave</td>\n",
       "      <td>6140.05</td>\n",
       "      <td>W 44 St &amp; 11 Ave</td>\n",
       "      <td>6756.05</td>\n",
       "      <td>40.741740</td>\n",
       "      <td>-73.994156</td>\n",
       "      <td>40.762009</td>\n",
       "      <td>-73.996975</td>\n",
       "      <td>member</td>\n",
       "      <td>2022-01-22</td>\n",
       "      <td>-5.9</td>\n",
       "      <td>both</td>\n",
       "    </tr>\n",
       "  </tbody>\n",
       "</table>\n",
       "</div>"
      ],
      "text/plain": [
       "            ride_id rideable_type          started_at            ended_at  \\\n",
       "0  55262E4365A955A2  classic_bike 2022-01-18 08:23:52 2022-01-18 08:28:18   \n",
       "1  D272F1B15D841EC0  classic_bike 2022-01-21 09:03:22 2022-01-21 09:05:44   \n",
       "2  D1FCEF55EB4A807F  classic_bike 2022-01-22 14:28:32 2022-01-22 14:53:18   \n",
       "\n",
       "        start_station_name start_station_id           end_station_name  \\\n",
       "0  Boerum Pl\\t& Pacific St          4488.09  Clinton St & Joralemon St   \n",
       "1          E 12 St & Ave C          5616.08         E 10 St & Avenue A   \n",
       "2          W 21 St & 6 Ave          6140.05           W 44 St & 11 Ave   \n",
       "\n",
       "  end_station_id  start_lat  start_lng    end_lat    end_lng member_casual  \\\n",
       "0        4605.04  40.688489 -73.991160  40.692395 -73.993379        member   \n",
       "1        5659.05  40.727243 -73.976831  40.727408 -73.981420        member   \n",
       "2        6756.05  40.741740 -73.994156  40.762009 -73.996975        member   \n",
       "\n",
       "        date  average_temp _merge  \n",
       "0 2022-01-18           1.8   both  \n",
       "1 2022-01-21          -6.0   both  \n",
       "2 2022-01-22          -5.9   both  "
      ]
     },
     "execution_count": 36,
     "metadata": {},
     "output_type": "execute_result"
    }
   ],
   "source": [
    "# check the merged dataset\n",
    "df_merged.head(3)"
   ]
  },
  {
   "cell_type": "code",
   "execution_count": 37,
   "id": "5692bf8e-137a-40d0-aa65-c05fd3e94155",
   "metadata": {},
   "outputs": [],
   "source": [
    "# Export df_merged as a csv \n",
    "df_merged.to_csv(os.path.join(path, 'merged_bike_temps_2022_half.csv'))"
   ]
  },
  {
   "cell_type": "code",
   "execution_count": null,
   "id": "131d8c42-9e5c-4bdf-b944-bda9c87fceb6",
   "metadata": {},
   "outputs": [],
   "source": []
  }
 ],
 "metadata": {
  "kernelspec": {
   "display_name": "Python [conda env:venv_bike]",
   "language": "python",
   "name": "conda-env-venv_bike-py"
  },
  "language_info": {
   "codemirror_mode": {
    "name": "ipython",
    "version": 3
   },
   "file_extension": ".py",
   "mimetype": "text/x-python",
   "name": "python",
   "nbconvert_exporter": "python",
   "pygments_lexer": "ipython3",
   "version": "3.12.3"
  }
 },
 "nbformat": 4,
 "nbformat_minor": 5
}
