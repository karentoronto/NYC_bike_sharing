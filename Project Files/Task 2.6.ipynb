{
 "cells": [
  {
   "cell_type": "code",
   "execution_count": 1,
   "id": "b0a48b2e-0c24-4455-947d-ddff2a2d54ac",
   "metadata": {},
   "outputs": [],
   "source": [
    "#Importing Libraries\n",
    "import streamlit as st\n",
    "import pandas as pd\n",
    "import numpy as np\n",
    "import plotly.express as px\n",
    "from plotly.subplots import make_subplots\n",
    "import plotly.graph_objects as go\n",
    "import matplotlib.pyplot as plt\n",
    "from datetime import datetime as dt\n",
    "from streamlit_keplergl import keplergl_static"
   ]
  },
  {
   "cell_type": "markdown",
   "id": "25d0a730-87e0-47b9-87ec-6fa1cb60fa42",
   "metadata": {},
   "source": [
    "## Create a bar chart using Plotly showing the top 20 bike-sharing stations by number of trips"
   ]
  },
  {
   "cell_type": "code",
   "execution_count": 2,
   "id": "c91c6929-1f80-4558-af0f-961cf8c8dbdf",
   "metadata": {},
   "outputs": [
    {
     "data": {
      "text/html": [
       "<div>\n",
       "<style scoped>\n",
       "    .dataframe tbody tr th:only-of-type {\n",
       "        vertical-align: middle;\n",
       "    }\n",
       "\n",
       "    .dataframe tbody tr th {\n",
       "        vertical-align: top;\n",
       "    }\n",
       "\n",
       "    .dataframe thead th {\n",
       "        text-align: right;\n",
       "    }\n",
       "</style>\n",
       "<table border=\"1\" class=\"dataframe\">\n",
       "  <thead>\n",
       "    <tr style=\"text-align: right;\">\n",
       "      <th></th>\n",
       "      <th>ride_id</th>\n",
       "      <th>rideable_type</th>\n",
       "      <th>started_at</th>\n",
       "      <th>ended_at</th>\n",
       "      <th>start_station_name</th>\n",
       "      <th>start_station_id</th>\n",
       "      <th>end_station_name</th>\n",
       "      <th>end_station_id</th>\n",
       "      <th>start_lat</th>\n",
       "      <th>start_lng</th>\n",
       "      <th>end_lat</th>\n",
       "      <th>end_lng</th>\n",
       "      <th>member_casual</th>\n",
       "      <th>average_temp</th>\n",
       "      <th>bike_rides_daily</th>\n",
       "      <th>value</th>\n",
       "    </tr>\n",
       "  </thead>\n",
       "  <tbody>\n",
       "    <tr>\n",
       "      <th>0</th>\n",
       "      <td>C401E951D3CE9CF1</td>\n",
       "      <td>classic_bike</td>\n",
       "      <td>2022-01-01 02:13:26</td>\n",
       "      <td>2022-01-01 02:14:57</td>\n",
       "      <td>Greenwich St &amp; Perry St</td>\n",
       "      <td>5922.04</td>\n",
       "      <td>Perry St &amp; Bleecker St</td>\n",
       "      <td>5922.07</td>\n",
       "      <td>40.734982</td>\n",
       "      <td>-74.006973</td>\n",
       "      <td>40.735355</td>\n",
       "      <td>-74.004829</td>\n",
       "      <td>member</td>\n",
       "      <td>11.6</td>\n",
       "      <td>20895</td>\n",
       "      <td>1</td>\n",
       "    </tr>\n",
       "    <tr>\n",
       "      <th>1</th>\n",
       "      <td>008C583994B6DC9E</td>\n",
       "      <td>docked_bike</td>\n",
       "      <td>2022-01-01 14:05:37</td>\n",
       "      <td>2022-01-01 14:24:46</td>\n",
       "      <td>Columbus Ave &amp; W 72 St</td>\n",
       "      <td>7175.05</td>\n",
       "      <td>5 Ave &amp; E 78 St</td>\n",
       "      <td>7161.08</td>\n",
       "      <td>40.777058</td>\n",
       "      <td>-73.978989</td>\n",
       "      <td>40.776321</td>\n",
       "      <td>-73.964272</td>\n",
       "      <td>casual</td>\n",
       "      <td>11.6</td>\n",
       "      <td>20895</td>\n",
       "      <td>1</td>\n",
       "    </tr>\n",
       "    <tr>\n",
       "      <th>2</th>\n",
       "      <td>2AFE5C9C23A7251A</td>\n",
       "      <td>classic_bike</td>\n",
       "      <td>2022-01-01 10:46:52</td>\n",
       "      <td>2022-01-01 11:05:27</td>\n",
       "      <td>E 11 St &amp; 1 Ave</td>\n",
       "      <td>5746.14</td>\n",
       "      <td>Division St &amp; Bowery</td>\n",
       "      <td>5270.08</td>\n",
       "      <td>40.729538</td>\n",
       "      <td>-73.984268</td>\n",
       "      <td>40.714191</td>\n",
       "      <td>-73.996735</td>\n",
       "      <td>member</td>\n",
       "      <td>11.6</td>\n",
       "      <td>20895</td>\n",
       "      <td>1</td>\n",
       "    </tr>\n",
       "    <tr>\n",
       "      <th>3</th>\n",
       "      <td>4723CAEF032C4D35</td>\n",
       "      <td>classic_bike</td>\n",
       "      <td>2022-01-01 00:12:08</td>\n",
       "      <td>2022-01-01 00:25:18</td>\n",
       "      <td>Hicks St &amp; Montague St</td>\n",
       "      <td>4645.09</td>\n",
       "      <td>Henry St &amp; Degraw St</td>\n",
       "      <td>4380.08</td>\n",
       "      <td>40.695129</td>\n",
       "      <td>-73.995949</td>\n",
       "      <td>40.684750</td>\n",
       "      <td>-73.999176</td>\n",
       "      <td>casual</td>\n",
       "      <td>11.6</td>\n",
       "      <td>20895</td>\n",
       "      <td>1</td>\n",
       "    </tr>\n",
       "    <tr>\n",
       "      <th>4</th>\n",
       "      <td>6E12358CBFCB35D0</td>\n",
       "      <td>electric_bike</td>\n",
       "      <td>2022-01-01 14:16:58</td>\n",
       "      <td>2022-01-01 14:23:32</td>\n",
       "      <td>Central Park West &amp; W 72 St</td>\n",
       "      <td>7141.07</td>\n",
       "      <td>Central Park W &amp; W 91 St</td>\n",
       "      <td>7453.01</td>\n",
       "      <td>40.775795</td>\n",
       "      <td>-73.976204</td>\n",
       "      <td>40.788666</td>\n",
       "      <td>-73.966797</td>\n",
       "      <td>member</td>\n",
       "      <td>11.6</td>\n",
       "      <td>20895</td>\n",
       "      <td>1</td>\n",
       "    </tr>\n",
       "  </tbody>\n",
       "</table>\n",
       "</div>"
      ],
      "text/plain": [
       "            ride_id  rideable_type          started_at            ended_at  \\\n",
       "0  C401E951D3CE9CF1   classic_bike 2022-01-01 02:13:26 2022-01-01 02:14:57   \n",
       "1  008C583994B6DC9E    docked_bike 2022-01-01 14:05:37 2022-01-01 14:24:46   \n",
       "2  2AFE5C9C23A7251A   classic_bike 2022-01-01 10:46:52 2022-01-01 11:05:27   \n",
       "3  4723CAEF032C4D35   classic_bike 2022-01-01 00:12:08 2022-01-01 00:25:18   \n",
       "4  6E12358CBFCB35D0  electric_bike 2022-01-01 14:16:58 2022-01-01 14:23:32   \n",
       "\n",
       "            start_station_name start_station_id          end_station_name  \\\n",
       "0      Greenwich St & Perry St          5922.04    Perry St & Bleecker St   \n",
       "1       Columbus Ave & W 72 St          7175.05           5 Ave & E 78 St   \n",
       "2              E 11 St & 1 Ave          5746.14      Division St & Bowery   \n",
       "3       Hicks St & Montague St          4645.09      Henry St & Degraw St   \n",
       "4  Central Park West & W 72 St          7141.07  Central Park W & W 91 St   \n",
       "\n",
       "  end_station_id  start_lat  start_lng    end_lat    end_lng member_casual  \\\n",
       "0        5922.07  40.734982 -74.006973  40.735355 -74.004829        member   \n",
       "1        7161.08  40.777058 -73.978989  40.776321 -73.964272        casual   \n",
       "2        5270.08  40.729538 -73.984268  40.714191 -73.996735        member   \n",
       "3        4380.08  40.695129 -73.995949  40.684750 -73.999176        casual   \n",
       "4        7453.01  40.775795 -73.976204  40.788666 -73.966797        member   \n",
       "\n",
       "   average_temp  bike_rides_daily  value  \n",
       "0          11.6             20895      1  \n",
       "1          11.6             20895      1  \n",
       "2          11.6             20895      1  \n",
       "3          11.6             20895      1  \n",
       "4          11.6             20895      1  "
      ]
     },
     "execution_count": 2,
     "metadata": {},
     "output_type": "execute_result"
    }
   ],
   "source": [
    "# Importing dataset\n",
    "df = pd.read_pickle(r\"C:\\Users\\karen\\NYC Bike Sharing Project\\02 Data\\Prepared Data\\dataset_cleaned.pkl\")\n",
    "df.head(5)"
   ]
  },
  {
   "cell_type": "code",
   "execution_count": 3,
   "id": "dc67b428-42ce-4879-9a49-7988c17807d9",
   "metadata": {},
   "outputs": [],
   "source": [
    "# Groupiing station names by the number of trips \n",
    "df_groupby_bar = df.groupby('start_station_name', as_index=False).agg({'value': 'sum'})\n",
    "top20 = df_groupby_bar.nlargest(20, 'value')"
   ]
  },
  {
   "cell_type": "code",
   "execution_count": 4,
   "id": "ad20deb0-fb74-4861-9865-d1f7b688897d",
   "metadata": {},
   "outputs": [
    {
     "data": {
      "text/html": [
       "<div>\n",
       "<style scoped>\n",
       "    .dataframe tbody tr th:only-of-type {\n",
       "        vertical-align: middle;\n",
       "    }\n",
       "\n",
       "    .dataframe tbody tr th {\n",
       "        vertical-align: top;\n",
       "    }\n",
       "\n",
       "    .dataframe thead th {\n",
       "        text-align: right;\n",
       "    }\n",
       "</style>\n",
       "<table border=\"1\" class=\"dataframe\">\n",
       "  <thead>\n",
       "    <tr style=\"text-align: right;\">\n",
       "      <th></th>\n",
       "      <th>start_station_name</th>\n",
       "      <th>value</th>\n",
       "    </tr>\n",
       "  </thead>\n",
       "  <tbody>\n",
       "    <tr>\n",
       "      <th>1396</th>\n",
       "      <td>W 21 St &amp; 6 Ave</td>\n",
       "      <td>20649</td>\n",
       "    </tr>\n",
       "    <tr>\n",
       "      <th>8</th>\n",
       "      <td>1 Ave &amp; E 68 St</td>\n",
       "      <td>18828</td>\n",
       "    </tr>\n",
       "    <tr>\n",
       "      <th>661</th>\n",
       "      <td>E 17 St &amp; Broadway</td>\n",
       "      <td>17219</td>\n",
       "    </tr>\n",
       "    <tr>\n",
       "      <th>417</th>\n",
       "      <td>Broadway &amp; W 58 St</td>\n",
       "      <td>16494</td>\n",
       "    </tr>\n",
       "    <tr>\n",
       "      <th>387</th>\n",
       "      <td>Broadway &amp; E 21 St</td>\n",
       "      <td>16238</td>\n",
       "    </tr>\n",
       "    <tr>\n",
       "      <th>1326</th>\n",
       "      <td>University Pl &amp; E 14 St</td>\n",
       "      <td>15975</td>\n",
       "    </tr>\n",
       "    <tr>\n",
       "      <th>692</th>\n",
       "      <td>E 33 St &amp; 1 Ave</td>\n",
       "      <td>15769</td>\n",
       "    </tr>\n",
       "    <tr>\n",
       "      <th>240</th>\n",
       "      <td>6 Ave &amp; W 33 St</td>\n",
       "      <td>15385</td>\n",
       "    </tr>\n",
       "    <tr>\n",
       "      <th>265</th>\n",
       "      <td>8 Ave &amp; W 33 St</td>\n",
       "      <td>14883</td>\n",
       "    </tr>\n",
       "    <tr>\n",
       "      <th>386</th>\n",
       "      <td>Broadway &amp; E 14 St</td>\n",
       "      <td>14466</td>\n",
       "    </tr>\n",
       "    <tr>\n",
       "      <th>1411</th>\n",
       "      <td>W 31 St &amp; 7 Ave</td>\n",
       "      <td>14408</td>\n",
       "    </tr>\n",
       "    <tr>\n",
       "      <th>1515</th>\n",
       "      <td>West St &amp; Chambers St</td>\n",
       "      <td>14220</td>\n",
       "    </tr>\n",
       "    <tr>\n",
       "      <th>241</th>\n",
       "      <td>6 Ave &amp; W 34 St</td>\n",
       "      <td>14181</td>\n",
       "    </tr>\n",
       "    <tr>\n",
       "      <th>699</th>\n",
       "      <td>E 40 St &amp; Park Ave</td>\n",
       "      <td>13631</td>\n",
       "    </tr>\n",
       "    <tr>\n",
       "      <th>408</th>\n",
       "      <td>Broadway &amp; W 25 St</td>\n",
       "      <td>13522</td>\n",
       "    </tr>\n",
       "    <tr>\n",
       "      <th>501</th>\n",
       "      <td>Cleveland Pl &amp; Spring St</td>\n",
       "      <td>13471</td>\n",
       "    </tr>\n",
       "    <tr>\n",
       "      <th>24</th>\n",
       "      <td>11 Ave &amp; W 41 St</td>\n",
       "      <td>13384</td>\n",
       "    </tr>\n",
       "    <tr>\n",
       "      <th>508</th>\n",
       "      <td>Clinton St &amp; Grand St</td>\n",
       "      <td>13090</td>\n",
       "    </tr>\n",
       "    <tr>\n",
       "      <th>1425</th>\n",
       "      <td>W 41 St &amp; 8 Ave</td>\n",
       "      <td>12950</td>\n",
       "    </tr>\n",
       "    <tr>\n",
       "      <th>273</th>\n",
       "      <td>9 Ave &amp; W 22 St</td>\n",
       "      <td>12941</td>\n",
       "    </tr>\n",
       "  </tbody>\n",
       "</table>\n",
       "</div>"
      ],
      "text/plain": [
       "            start_station_name  value\n",
       "1396           W 21 St & 6 Ave  20649\n",
       "8              1 Ave & E 68 St  18828\n",
       "661         E 17 St & Broadway  17219\n",
       "417         Broadway & W 58 St  16494\n",
       "387         Broadway & E 21 St  16238\n",
       "1326   University Pl & E 14 St  15975\n",
       "692            E 33 St & 1 Ave  15769\n",
       "240            6 Ave & W 33 St  15385\n",
       "265            8 Ave & W 33 St  14883\n",
       "386         Broadway & E 14 St  14466\n",
       "1411           W 31 St & 7 Ave  14408\n",
       "1515     West St & Chambers St  14220\n",
       "241            6 Ave & W 34 St  14181\n",
       "699         E 40 St & Park Ave  13631\n",
       "408         Broadway & W 25 St  13522\n",
       "501   Cleveland Pl & Spring St  13471\n",
       "24            11 Ave & W 41 St  13384\n",
       "508      Clinton St & Grand St  13090\n",
       "1425           W 41 St & 8 Ave  12950\n",
       "273            9 Ave & W 22 St  12941"
      ]
     },
     "execution_count": 4,
     "metadata": {},
     "output_type": "execute_result"
    }
   ],
   "source": [
    "top20"
   ]
  },
  {
   "cell_type": "code",
   "execution_count": 5,
   "id": "de771d6b-853e-4a4f-baa1-a9af6d1158ea",
   "metadata": {},
   "outputs": [],
   "source": [
    "#rename \"value\" column with \"trips\"\n",
    "top20.rename(columns = {'value': 'trips'}, inplace = True)"
   ]
  },
  {
   "cell_type": "code",
   "execution_count": 6,
   "id": "c2fc54e9-c6d6-40e8-b9f2-cbeacf6a7e47",
   "metadata": {},
   "outputs": [],
   "source": [
    "#save top20 as a csv file\n",
    "top20.to_csv('top20.csv')"
   ]
  },
  {
   "cell_type": "code",
   "execution_count": 7,
   "id": "47f92f18-ad2f-473f-8132-6091e200ad75",
   "metadata": {},
   "outputs": [
    {
     "data": {
      "application/vnd.plotly.v1+json": {
       "config": {
        "plotlyServerURL": "https://plot.ly"
       },
       "data": [
        {
         "alignmentgroup": "True",
         "hovertemplate": "start_station_name=%{x}<br>trips=%{marker.color}<extra></extra>",
         "legendgroup": "",
         "marker": {
          "color": [
           20649,
           18828,
           17219,
           16494,
           16238,
           15975,
           15769,
           15385,
           14883,
           14466,
           14408,
           14220,
           14181,
           13631,
           13522,
           13471,
           13384,
           13090,
           12950,
           12941
          ],
          "coloraxis": "coloraxis",
          "pattern": {
           "shape": ""
          }
         },
         "name": "",
         "offsetgroup": "",
         "orientation": "v",
         "showlegend": false,
         "textposition": "auto",
         "type": "bar",
         "x": [
          "W 21 St & 6 Ave",
          "1 Ave & E 68 St",
          "E 17 St & Broadway",
          "Broadway & W 58 St",
          "Broadway & E 21 St",
          "University Pl & E 14 St",
          "E 33 St & 1 Ave",
          "6 Ave & W 33 St",
          "8 Ave & W 33 St",
          "Broadway & E 14 St",
          "W 31 St & 7 Ave",
          "West St & Chambers St",
          "6 Ave & W 34 St",
          "E 40 St & Park Ave",
          "Broadway & W 25 St",
          "Cleveland Pl & Spring St",
          "11 Ave & W 41 St",
          "Clinton St & Grand St",
          "W 41 St & 8 Ave",
          "9 Ave & W 22 St"
         ],
         "xaxis": "x",
         "y": [
          20649,
          18828,
          17219,
          16494,
          16238,
          15975,
          15769,
          15385,
          14883,
          14466,
          14408,
          14220,
          14181,
          13631,
          13522,
          13471,
          13384,
          13090,
          12950,
          12941
         ],
         "yaxis": "y"
        }
       ],
       "layout": {
        "barmode": "relative",
        "coloraxis": {
         "colorbar": {
          "title": {
           "text": "trips"
          }
         },
         "colorscale": [
          [
           0,
           "rgb(234, 252, 253)"
          ],
          [
           0.09090909090909091,
           "rgb(192, 229, 232)"
          ],
          [
           0.18181818181818182,
           "rgb(149, 207, 216)"
          ],
          [
           0.2727272727272727,
           "rgb(114, 184, 205)"
          ],
          [
           0.36363636363636365,
           "rgb(89, 159, 196)"
          ],
          [
           0.45454545454545453,
           "rgb(72, 134, 187)"
          ],
          [
           0.5454545454545454,
           "rgb(62, 109, 178)"
          ],
          [
           0.6363636363636364,
           "rgb(62, 83, 160)"
          ],
          [
           0.7272727272727273,
           "rgb(58, 60, 125)"
          ],
          [
           0.8181818181818182,
           "rgb(44, 42, 87)"
          ],
          [
           0.9090909090909091,
           "rgb(25, 25, 51)"
          ],
          [
           1,
           "rgb(3, 5, 18)"
          ]
         ]
        },
        "legend": {
         "tracegroupgap": 0
        },
        "margin": {
         "t": 60
        },
        "template": {
         "data": {
          "candlestick": [
           {
            "decreasing": {
             "line": {
              "color": "#000033"
             }
            },
            "increasing": {
             "line": {
              "color": "#000032"
             }
            },
            "type": "candlestick"
           }
          ],
          "contour": [
           {
            "colorscale": [
             [
              0,
              "#000011"
             ],
             [
              0.1111111111111111,
              "#000012"
             ],
             [
              0.2222222222222222,
              "#000013"
             ],
             [
              0.3333333333333333,
              "#000014"
             ],
             [
              0.4444444444444444,
              "#000015"
             ],
             [
              0.5555555555555556,
              "#000016"
             ],
             [
              0.6666666666666666,
              "#000017"
             ],
             [
              0.7777777777777778,
              "#000018"
             ],
             [
              0.8888888888888888,
              "#000019"
             ],
             [
              1,
              "#000020"
             ]
            ],
            "type": "contour"
           }
          ],
          "contourcarpet": [
           {
            "colorscale": [
             [
              0,
              "#000011"
             ],
             [
              0.1111111111111111,
              "#000012"
             ],
             [
              0.2222222222222222,
              "#000013"
             ],
             [
              0.3333333333333333,
              "#000014"
             ],
             [
              0.4444444444444444,
              "#000015"
             ],
             [
              0.5555555555555556,
              "#000016"
             ],
             [
              0.6666666666666666,
              "#000017"
             ],
             [
              0.7777777777777778,
              "#000018"
             ],
             [
              0.8888888888888888,
              "#000019"
             ],
             [
              1,
              "#000020"
             ]
            ],
            "type": "contourcarpet"
           }
          ],
          "heatmap": [
           {
            "colorscale": [
             [
              0,
              "#000011"
             ],
             [
              0.1111111111111111,
              "#000012"
             ],
             [
              0.2222222222222222,
              "#000013"
             ],
             [
              0.3333333333333333,
              "#000014"
             ],
             [
              0.4444444444444444,
              "#000015"
             ],
             [
              0.5555555555555556,
              "#000016"
             ],
             [
              0.6666666666666666,
              "#000017"
             ],
             [
              0.7777777777777778,
              "#000018"
             ],
             [
              0.8888888888888888,
              "#000019"
             ],
             [
              1,
              "#000020"
             ]
            ],
            "type": "heatmap"
           }
          ],
          "histogram2d": [
           {
            "colorscale": [
             [
              0,
              "#000011"
             ],
             [
              0.1111111111111111,
              "#000012"
             ],
             [
              0.2222222222222222,
              "#000013"
             ],
             [
              0.3333333333333333,
              "#000014"
             ],
             [
              0.4444444444444444,
              "#000015"
             ],
             [
              0.5555555555555556,
              "#000016"
             ],
             [
              0.6666666666666666,
              "#000017"
             ],
             [
              0.7777777777777778,
              "#000018"
             ],
             [
              0.8888888888888888,
              "#000019"
             ],
             [
              1,
              "#000020"
             ]
            ],
            "type": "histogram2d"
           }
          ],
          "icicle": [
           {
            "textfont": {
             "color": "white"
            },
            "type": "icicle"
           }
          ],
          "sankey": [
           {
            "textfont": {
             "color": "#000036"
            },
            "type": "sankey"
           }
          ],
          "scatter": [
           {
            "marker": {
             "line": {
              "width": 0
             }
            },
            "type": "scatter"
           }
          ],
          "table": [
           {
            "cells": {
             "fill": {
              "color": "#000038"
             },
             "font": {
              "color": "#000037"
             },
             "line": {
              "color": "#000039"
             }
            },
            "header": {
             "fill": {
              "color": "#000040"
             },
             "font": {
              "color": "#000036"
             },
             "line": {
              "color": "#000039"
             }
            },
            "type": "table"
           }
          ],
          "waterfall": [
           {
            "connector": {
             "line": {
              "color": "#000036",
              "width": 2
             }
            },
            "decreasing": {
             "marker": {
              "color": "#000033"
             }
            },
            "increasing": {
             "marker": {
              "color": "#000032"
             }
            },
            "totals": {
             "marker": {
              "color": "#000034"
             }
            },
            "type": "waterfall"
           }
          ]
         },
         "layout": {
          "coloraxis": {
           "colorscale": [
            [
             0,
             "#000011"
            ],
            [
             0.1111111111111111,
             "#000012"
            ],
            [
             0.2222222222222222,
             "#000013"
            ],
            [
             0.3333333333333333,
             "#000014"
            ],
            [
             0.4444444444444444,
             "#000015"
            ],
            [
             0.5555555555555556,
             "#000016"
            ],
            [
             0.6666666666666666,
             "#000017"
            ],
            [
             0.7777777777777778,
             "#000018"
            ],
            [
             0.8888888888888888,
             "#000019"
            ],
            [
             1,
             "#000020"
            ]
           ]
          },
          "colorscale": {
           "diverging": [
            [
             0,
             "#000021"
            ],
            [
             0.1,
             "#000022"
            ],
            [
             0.2,
             "#000023"
            ],
            [
             0.3,
             "#000024"
            ],
            [
             0.4,
             "#000025"
            ],
            [
             0.5,
             "#000026"
            ],
            [
             0.6,
             "#000027"
            ],
            [
             0.7,
             "#000028"
            ],
            [
             0.8,
             "#000029"
            ],
            [
             0.9,
             "#000030"
            ],
            [
             1,
             "#000031"
            ]
           ],
           "sequential": [
            [
             0,
             "#000011"
            ],
            [
             0.1111111111111111,
             "#000012"
            ],
            [
             0.2222222222222222,
             "#000013"
            ],
            [
             0.3333333333333333,
             "#000014"
            ],
            [
             0.4444444444444444,
             "#000015"
            ],
            [
             0.5555555555555556,
             "#000016"
            ],
            [
             0.6666666666666666,
             "#000017"
            ],
            [
             0.7777777777777778,
             "#000018"
            ],
            [
             0.8888888888888888,
             "#000019"
            ],
            [
             1,
             "#000020"
            ]
           ],
           "sequentialminus": [
            [
             0,
             "#000011"
            ],
            [
             0.1111111111111111,
             "#000012"
            ],
            [
             0.2222222222222222,
             "#000013"
            ],
            [
             0.3333333333333333,
             "#000014"
            ],
            [
             0.4444444444444444,
             "#000015"
            ],
            [
             0.5555555555555556,
             "#000016"
            ],
            [
             0.6666666666666666,
             "#000017"
            ],
            [
             0.7777777777777778,
             "#000018"
            ],
            [
             0.8888888888888888,
             "#000019"
            ],
            [
             1,
             "#000020"
            ]
           ]
          },
          "colorway": [
           "#000001",
           "#000002",
           "#000003",
           "#000004",
           "#000005",
           "#000006",
           "#000007",
           "#000008",
           "#000009",
           "#000010"
          ]
         }
        },
        "title": {
         "font": {
          "weight": "bold"
         },
         "text": "Top 20 Bike-Sharing Facilities Operated by Citi Bike"
        },
        "xaxis": {
         "anchor": "y",
         "domain": [
          0,
          1
         ],
         "tickfont": {
          "size": 10
         },
         "title": {
          "font": {
           "weight": "bold"
          },
          "text": "Start Station Name"
         }
        },
        "yaxis": {
         "anchor": "x",
         "domain": [
          0,
          1
         ],
         "title": {
          "font": {
           "weight": "bold"
          },
          "text": "Number of Trips"
         }
        }
       }
      }
     },
     "metadata": {},
     "output_type": "display_data"
    }
   ],
   "source": [
    "# plotting a bar chart with plotly\n",
    "fig = px.bar(data_frame = top20, \n",
    "             x = 'start_station_name', \n",
    "             y ='trips', \n",
    "             color= 'trips', \n",
    "             color_continuous_scale ='ice_r')\n",
    "\n",
    "fig.update_layout({\n",
    "    'title': {'text': 'Top 20 Bike-Sharing Facilities Operated by Citi Bike', 'font': {'weight': 'bold'}},\n",
    "    'xaxis': {'title': {'text': 'Start Station Name', 'font': {'weight': 'bold'}}, 'tickfont': {'size': 10}},\n",
    "    'yaxis': {'title': {'text': 'Number of Trips', 'font': {'weight': 'bold'}}}\n",
    "})\n",
    "fig.show()"
   ]
  },
  {
   "cell_type": "code",
   "execution_count": 8,
   "id": "d537c2eb",
   "metadata": {},
   "outputs": [
    {
     "data": {
      "text/html": [
       "<div>\n",
       "<style scoped>\n",
       "    .dataframe tbody tr th:only-of-type {\n",
       "        vertical-align: middle;\n",
       "    }\n",
       "\n",
       "    .dataframe tbody tr th {\n",
       "        vertical-align: top;\n",
       "    }\n",
       "\n",
       "    .dataframe thead th {\n",
       "        text-align: right;\n",
       "    }\n",
       "</style>\n",
       "<table border=\"1\" class=\"dataframe\">\n",
       "  <thead>\n",
       "    <tr style=\"text-align: right;\">\n",
       "      <th></th>\n",
       "      <th>ride_id</th>\n",
       "      <th>rideable_type</th>\n",
       "      <th>started_at</th>\n",
       "      <th>ended_at</th>\n",
       "      <th>start_station_name</th>\n",
       "      <th>start_station_id</th>\n",
       "      <th>end_station_name</th>\n",
       "      <th>end_station_id</th>\n",
       "      <th>start_lat</th>\n",
       "      <th>start_lng</th>\n",
       "      <th>end_lat</th>\n",
       "      <th>end_lng</th>\n",
       "      <th>member_casual</th>\n",
       "      <th>average_temp</th>\n",
       "      <th>bike_rides_daily</th>\n",
       "      <th>value</th>\n",
       "    </tr>\n",
       "  </thead>\n",
       "  <tbody>\n",
       "    <tr>\n",
       "      <th>0</th>\n",
       "      <td>C401E951D3CE9CF1</td>\n",
       "      <td>classic_bike</td>\n",
       "      <td>2022-01-01 02:13:26</td>\n",
       "      <td>2022-01-01 02:14:57</td>\n",
       "      <td>Greenwich St &amp; Perry St</td>\n",
       "      <td>5922.04</td>\n",
       "      <td>Perry St &amp; Bleecker St</td>\n",
       "      <td>5922.07</td>\n",
       "      <td>40.734982</td>\n",
       "      <td>-74.006973</td>\n",
       "      <td>40.735355</td>\n",
       "      <td>-74.004829</td>\n",
       "      <td>member</td>\n",
       "      <td>11.6</td>\n",
       "      <td>20895</td>\n",
       "      <td>1</td>\n",
       "    </tr>\n",
       "    <tr>\n",
       "      <th>1</th>\n",
       "      <td>008C583994B6DC9E</td>\n",
       "      <td>docked_bike</td>\n",
       "      <td>2022-01-01 14:05:37</td>\n",
       "      <td>2022-01-01 14:24:46</td>\n",
       "      <td>Columbus Ave &amp; W 72 St</td>\n",
       "      <td>7175.05</td>\n",
       "      <td>5 Ave &amp; E 78 St</td>\n",
       "      <td>7161.08</td>\n",
       "      <td>40.777058</td>\n",
       "      <td>-73.978989</td>\n",
       "      <td>40.776321</td>\n",
       "      <td>-73.964272</td>\n",
       "      <td>casual</td>\n",
       "      <td>11.6</td>\n",
       "      <td>20895</td>\n",
       "      <td>1</td>\n",
       "    </tr>\n",
       "    <tr>\n",
       "      <th>2</th>\n",
       "      <td>2AFE5C9C23A7251A</td>\n",
       "      <td>classic_bike</td>\n",
       "      <td>2022-01-01 10:46:52</td>\n",
       "      <td>2022-01-01 11:05:27</td>\n",
       "      <td>E 11 St &amp; 1 Ave</td>\n",
       "      <td>5746.14</td>\n",
       "      <td>Division St &amp; Bowery</td>\n",
       "      <td>5270.08</td>\n",
       "      <td>40.729538</td>\n",
       "      <td>-73.984268</td>\n",
       "      <td>40.714191</td>\n",
       "      <td>-73.996735</td>\n",
       "      <td>member</td>\n",
       "      <td>11.6</td>\n",
       "      <td>20895</td>\n",
       "      <td>1</td>\n",
       "    </tr>\n",
       "    <tr>\n",
       "      <th>3</th>\n",
       "      <td>4723CAEF032C4D35</td>\n",
       "      <td>classic_bike</td>\n",
       "      <td>2022-01-01 00:12:08</td>\n",
       "      <td>2022-01-01 00:25:18</td>\n",
       "      <td>Hicks St &amp; Montague St</td>\n",
       "      <td>4645.09</td>\n",
       "      <td>Henry St &amp; Degraw St</td>\n",
       "      <td>4380.08</td>\n",
       "      <td>40.695129</td>\n",
       "      <td>-73.995949</td>\n",
       "      <td>40.684750</td>\n",
       "      <td>-73.999176</td>\n",
       "      <td>casual</td>\n",
       "      <td>11.6</td>\n",
       "      <td>20895</td>\n",
       "      <td>1</td>\n",
       "    </tr>\n",
       "    <tr>\n",
       "      <th>4</th>\n",
       "      <td>6E12358CBFCB35D0</td>\n",
       "      <td>electric_bike</td>\n",
       "      <td>2022-01-01 14:16:58</td>\n",
       "      <td>2022-01-01 14:23:32</td>\n",
       "      <td>Central Park West &amp; W 72 St</td>\n",
       "      <td>7141.07</td>\n",
       "      <td>Central Park W &amp; W 91 St</td>\n",
       "      <td>7453.01</td>\n",
       "      <td>40.775795</td>\n",
       "      <td>-73.976204</td>\n",
       "      <td>40.788666</td>\n",
       "      <td>-73.966797</td>\n",
       "      <td>member</td>\n",
       "      <td>11.6</td>\n",
       "      <td>20895</td>\n",
       "      <td>1</td>\n",
       "    </tr>\n",
       "  </tbody>\n",
       "</table>\n",
       "</div>"
      ],
      "text/plain": [
       "            ride_id  rideable_type          started_at            ended_at  \\\n",
       "0  C401E951D3CE9CF1   classic_bike 2022-01-01 02:13:26 2022-01-01 02:14:57   \n",
       "1  008C583994B6DC9E    docked_bike 2022-01-01 14:05:37 2022-01-01 14:24:46   \n",
       "2  2AFE5C9C23A7251A   classic_bike 2022-01-01 10:46:52 2022-01-01 11:05:27   \n",
       "3  4723CAEF032C4D35   classic_bike 2022-01-01 00:12:08 2022-01-01 00:25:18   \n",
       "4  6E12358CBFCB35D0  electric_bike 2022-01-01 14:16:58 2022-01-01 14:23:32   \n",
       "\n",
       "            start_station_name start_station_id          end_station_name  \\\n",
       "0      Greenwich St & Perry St          5922.04    Perry St & Bleecker St   \n",
       "1       Columbus Ave & W 72 St          7175.05           5 Ave & E 78 St   \n",
       "2              E 11 St & 1 Ave          5746.14      Division St & Bowery   \n",
       "3       Hicks St & Montague St          4645.09      Henry St & Degraw St   \n",
       "4  Central Park West & W 72 St          7141.07  Central Park W & W 91 St   \n",
       "\n",
       "  end_station_id  start_lat  start_lng    end_lat    end_lng member_casual  \\\n",
       "0        5922.07  40.734982 -74.006973  40.735355 -74.004829        member   \n",
       "1        7161.08  40.777058 -73.978989  40.776321 -73.964272        casual   \n",
       "2        5270.08  40.729538 -73.984268  40.714191 -73.996735        member   \n",
       "3        4380.08  40.695129 -73.995949  40.684750 -73.999176        casual   \n",
       "4        7453.01  40.775795 -73.976204  40.788666 -73.966797        member   \n",
       "\n",
       "   average_temp  bike_rides_daily  value  \n",
       "0          11.6             20895      1  \n",
       "1          11.6             20895      1  \n",
       "2          11.6             20895      1  \n",
       "3          11.6             20895      1  \n",
       "4          11.6             20895      1  "
      ]
     },
     "execution_count": 8,
     "metadata": {},
     "output_type": "execute_result"
    }
   ],
   "source": [
    "# Make a copy of the DataFrame\n",
    "df_copy = df.copy()\n",
    "\n",
    "# Display the first 5 rows of the copied DataFrame\n",
    "df_copy.head(5)"
   ]
  },
  {
   "cell_type": "code",
   "execution_count": 9,
   "id": "5309953f",
   "metadata": {},
   "outputs": [],
   "source": [
    "# Change data type of the column \"started_at\" to date\n",
    "df_copy['started_at'] = pd.to_datetime(df_copy['started_at']).dt.date"
   ]
  },
  {
   "cell_type": "code",
   "execution_count": 10,
   "id": "c3ba76bb",
   "metadata": {},
   "outputs": [
    {
     "data": {
      "text/html": [
       "<div>\n",
       "<style scoped>\n",
       "    .dataframe tbody tr th:only-of-type {\n",
       "        vertical-align: middle;\n",
       "    }\n",
       "\n",
       "    .dataframe tbody tr th {\n",
       "        vertical-align: top;\n",
       "    }\n",
       "\n",
       "    .dataframe thead th {\n",
       "        text-align: right;\n",
       "    }\n",
       "</style>\n",
       "<table border=\"1\" class=\"dataframe\">\n",
       "  <thead>\n",
       "    <tr style=\"text-align: right;\">\n",
       "      <th></th>\n",
       "      <th>ride_id</th>\n",
       "      <th>rideable_type</th>\n",
       "      <th>started_at</th>\n",
       "      <th>ended_at</th>\n",
       "      <th>start_station_name</th>\n",
       "      <th>start_station_id</th>\n",
       "      <th>end_station_name</th>\n",
       "      <th>end_station_id</th>\n",
       "      <th>start_lat</th>\n",
       "      <th>start_lng</th>\n",
       "      <th>end_lat</th>\n",
       "      <th>end_lng</th>\n",
       "      <th>member_casual</th>\n",
       "      <th>average_temp</th>\n",
       "      <th>bike_rides_daily</th>\n",
       "      <th>value</th>\n",
       "    </tr>\n",
       "  </thead>\n",
       "  <tbody>\n",
       "    <tr>\n",
       "      <th>0</th>\n",
       "      <td>C401E951D3CE9CF1</td>\n",
       "      <td>classic_bike</td>\n",
       "      <td>2022-01-01</td>\n",
       "      <td>2022-01-01 02:14:57</td>\n",
       "      <td>Greenwich St &amp; Perry St</td>\n",
       "      <td>5922.04</td>\n",
       "      <td>Perry St &amp; Bleecker St</td>\n",
       "      <td>5922.07</td>\n",
       "      <td>40.734982</td>\n",
       "      <td>-74.006973</td>\n",
       "      <td>40.735355</td>\n",
       "      <td>-74.004829</td>\n",
       "      <td>member</td>\n",
       "      <td>11.6</td>\n",
       "      <td>20895</td>\n",
       "      <td>1</td>\n",
       "    </tr>\n",
       "    <tr>\n",
       "      <th>1</th>\n",
       "      <td>008C583994B6DC9E</td>\n",
       "      <td>docked_bike</td>\n",
       "      <td>2022-01-01</td>\n",
       "      <td>2022-01-01 14:24:46</td>\n",
       "      <td>Columbus Ave &amp; W 72 St</td>\n",
       "      <td>7175.05</td>\n",
       "      <td>5 Ave &amp; E 78 St</td>\n",
       "      <td>7161.08</td>\n",
       "      <td>40.777058</td>\n",
       "      <td>-73.978989</td>\n",
       "      <td>40.776321</td>\n",
       "      <td>-73.964272</td>\n",
       "      <td>casual</td>\n",
       "      <td>11.6</td>\n",
       "      <td>20895</td>\n",
       "      <td>1</td>\n",
       "    </tr>\n",
       "    <tr>\n",
       "      <th>2</th>\n",
       "      <td>2AFE5C9C23A7251A</td>\n",
       "      <td>classic_bike</td>\n",
       "      <td>2022-01-01</td>\n",
       "      <td>2022-01-01 11:05:27</td>\n",
       "      <td>E 11 St &amp; 1 Ave</td>\n",
       "      <td>5746.14</td>\n",
       "      <td>Division St &amp; Bowery</td>\n",
       "      <td>5270.08</td>\n",
       "      <td>40.729538</td>\n",
       "      <td>-73.984268</td>\n",
       "      <td>40.714191</td>\n",
       "      <td>-73.996735</td>\n",
       "      <td>member</td>\n",
       "      <td>11.6</td>\n",
       "      <td>20895</td>\n",
       "      <td>1</td>\n",
       "    </tr>\n",
       "    <tr>\n",
       "      <th>3</th>\n",
       "      <td>4723CAEF032C4D35</td>\n",
       "      <td>classic_bike</td>\n",
       "      <td>2022-01-01</td>\n",
       "      <td>2022-01-01 00:25:18</td>\n",
       "      <td>Hicks St &amp; Montague St</td>\n",
       "      <td>4645.09</td>\n",
       "      <td>Henry St &amp; Degraw St</td>\n",
       "      <td>4380.08</td>\n",
       "      <td>40.695129</td>\n",
       "      <td>-73.995949</td>\n",
       "      <td>40.684750</td>\n",
       "      <td>-73.999176</td>\n",
       "      <td>casual</td>\n",
       "      <td>11.6</td>\n",
       "      <td>20895</td>\n",
       "      <td>1</td>\n",
       "    </tr>\n",
       "    <tr>\n",
       "      <th>4</th>\n",
       "      <td>6E12358CBFCB35D0</td>\n",
       "      <td>electric_bike</td>\n",
       "      <td>2022-01-01</td>\n",
       "      <td>2022-01-01 14:23:32</td>\n",
       "      <td>Central Park West &amp; W 72 St</td>\n",
       "      <td>7141.07</td>\n",
       "      <td>Central Park W &amp; W 91 St</td>\n",
       "      <td>7453.01</td>\n",
       "      <td>40.775795</td>\n",
       "      <td>-73.976204</td>\n",
       "      <td>40.788666</td>\n",
       "      <td>-73.966797</td>\n",
       "      <td>member</td>\n",
       "      <td>11.6</td>\n",
       "      <td>20895</td>\n",
       "      <td>1</td>\n",
       "    </tr>\n",
       "  </tbody>\n",
       "</table>\n",
       "</div>"
      ],
      "text/plain": [
       "            ride_id  rideable_type  started_at            ended_at  \\\n",
       "0  C401E951D3CE9CF1   classic_bike  2022-01-01 2022-01-01 02:14:57   \n",
       "1  008C583994B6DC9E    docked_bike  2022-01-01 2022-01-01 14:24:46   \n",
       "2  2AFE5C9C23A7251A   classic_bike  2022-01-01 2022-01-01 11:05:27   \n",
       "3  4723CAEF032C4D35   classic_bike  2022-01-01 2022-01-01 00:25:18   \n",
       "4  6E12358CBFCB35D0  electric_bike  2022-01-01 2022-01-01 14:23:32   \n",
       "\n",
       "            start_station_name start_station_id          end_station_name  \\\n",
       "0      Greenwich St & Perry St          5922.04    Perry St & Bleecker St   \n",
       "1       Columbus Ave & W 72 St          7175.05           5 Ave & E 78 St   \n",
       "2              E 11 St & 1 Ave          5746.14      Division St & Bowery   \n",
       "3       Hicks St & Montague St          4645.09      Henry St & Degraw St   \n",
       "4  Central Park West & W 72 St          7141.07  Central Park W & W 91 St   \n",
       "\n",
       "  end_station_id  start_lat  start_lng    end_lat    end_lng member_casual  \\\n",
       "0        5922.07  40.734982 -74.006973  40.735355 -74.004829        member   \n",
       "1        7161.08  40.777058 -73.978989  40.776321 -73.964272        casual   \n",
       "2        5270.08  40.729538 -73.984268  40.714191 -73.996735        member   \n",
       "3        4380.08  40.695129 -73.995949  40.684750 -73.999176        casual   \n",
       "4        7453.01  40.775795 -73.976204  40.788666 -73.966797        member   \n",
       "\n",
       "   average_temp  bike_rides_daily  value  \n",
       "0          11.6             20895      1  \n",
       "1          11.6             20895      1  \n",
       "2          11.6             20895      1  \n",
       "3          11.6             20895      1  \n",
       "4          11.6             20895      1  "
      ]
     },
     "execution_count": 10,
     "metadata": {},
     "output_type": "execute_result"
    }
   ],
   "source": [
    "df_copy.head(5)"
   ]
  },
  {
   "cell_type": "code",
   "execution_count": 11,
   "id": "1e1ed419",
   "metadata": {},
   "outputs": [
    {
     "data": {
      "text/html": [
       "<div>\n",
       "<style scoped>\n",
       "    .dataframe tbody tr th:only-of-type {\n",
       "        vertical-align: middle;\n",
       "    }\n",
       "\n",
       "    .dataframe tbody tr th {\n",
       "        vertical-align: top;\n",
       "    }\n",
       "\n",
       "    .dataframe thead th {\n",
       "        text-align: right;\n",
       "    }\n",
       "</style>\n",
       "<table border=\"1\" class=\"dataframe\">\n",
       "  <thead>\n",
       "    <tr style=\"text-align: right;\">\n",
       "      <th></th>\n",
       "      <th>rideable_type</th>\n",
       "      <th>started_at</th>\n",
       "      <th>start_station_name</th>\n",
       "      <th>end_station_name</th>\n",
       "      <th>start_lat</th>\n",
       "      <th>start_lng</th>\n",
       "      <th>end_lat</th>\n",
       "      <th>end_lng</th>\n",
       "      <th>member_casual</th>\n",
       "      <th>average_temp</th>\n",
       "      <th>bike_rides_daily</th>\n",
       "    </tr>\n",
       "  </thead>\n",
       "  <tbody>\n",
       "    <tr>\n",
       "      <th>0</th>\n",
       "      <td>classic_bike</td>\n",
       "      <td>2022-01-01</td>\n",
       "      <td>Greenwich St &amp; Perry St</td>\n",
       "      <td>Perry St &amp; Bleecker St</td>\n",
       "      <td>40.734982</td>\n",
       "      <td>-74.006973</td>\n",
       "      <td>40.735355</td>\n",
       "      <td>-74.004829</td>\n",
       "      <td>member</td>\n",
       "      <td>11.6</td>\n",
       "      <td>20895</td>\n",
       "    </tr>\n",
       "    <tr>\n",
       "      <th>1</th>\n",
       "      <td>docked_bike</td>\n",
       "      <td>2022-01-01</td>\n",
       "      <td>Columbus Ave &amp; W 72 St</td>\n",
       "      <td>5 Ave &amp; E 78 St</td>\n",
       "      <td>40.777058</td>\n",
       "      <td>-73.978989</td>\n",
       "      <td>40.776321</td>\n",
       "      <td>-73.964272</td>\n",
       "      <td>casual</td>\n",
       "      <td>11.6</td>\n",
       "      <td>20895</td>\n",
       "    </tr>\n",
       "    <tr>\n",
       "      <th>2</th>\n",
       "      <td>classic_bike</td>\n",
       "      <td>2022-01-01</td>\n",
       "      <td>E 11 St &amp; 1 Ave</td>\n",
       "      <td>Division St &amp; Bowery</td>\n",
       "      <td>40.729538</td>\n",
       "      <td>-73.984268</td>\n",
       "      <td>40.714191</td>\n",
       "      <td>-73.996735</td>\n",
       "      <td>member</td>\n",
       "      <td>11.6</td>\n",
       "      <td>20895</td>\n",
       "    </tr>\n",
       "    <tr>\n",
       "      <th>3</th>\n",
       "      <td>classic_bike</td>\n",
       "      <td>2022-01-01</td>\n",
       "      <td>Hicks St &amp; Montague St</td>\n",
       "      <td>Henry St &amp; Degraw St</td>\n",
       "      <td>40.695129</td>\n",
       "      <td>-73.995949</td>\n",
       "      <td>40.684750</td>\n",
       "      <td>-73.999176</td>\n",
       "      <td>casual</td>\n",
       "      <td>11.6</td>\n",
       "      <td>20895</td>\n",
       "    </tr>\n",
       "    <tr>\n",
       "      <th>4</th>\n",
       "      <td>electric_bike</td>\n",
       "      <td>2022-01-01</td>\n",
       "      <td>Central Park West &amp; W 72 St</td>\n",
       "      <td>Central Park W &amp; W 91 St</td>\n",
       "      <td>40.775795</td>\n",
       "      <td>-73.976204</td>\n",
       "      <td>40.788666</td>\n",
       "      <td>-73.966797</td>\n",
       "      <td>member</td>\n",
       "      <td>11.6</td>\n",
       "      <td>20895</td>\n",
       "    </tr>\n",
       "  </tbody>\n",
       "</table>\n",
       "</div>"
      ],
      "text/plain": [
       "   rideable_type  started_at           start_station_name  \\\n",
       "0   classic_bike  2022-01-01      Greenwich St & Perry St   \n",
       "1    docked_bike  2022-01-01       Columbus Ave & W 72 St   \n",
       "2   classic_bike  2022-01-01              E 11 St & 1 Ave   \n",
       "3   classic_bike  2022-01-01       Hicks St & Montague St   \n",
       "4  electric_bike  2022-01-01  Central Park West & W 72 St   \n",
       "\n",
       "           end_station_name  start_lat  start_lng    end_lat    end_lng  \\\n",
       "0    Perry St & Bleecker St  40.734982 -74.006973  40.735355 -74.004829   \n",
       "1           5 Ave & E 78 St  40.777058 -73.978989  40.776321 -73.964272   \n",
       "2      Division St & Bowery  40.729538 -73.984268  40.714191 -73.996735   \n",
       "3      Henry St & Degraw St  40.695129 -73.995949  40.684750 -73.999176   \n",
       "4  Central Park W & W 91 St  40.775795 -73.976204  40.788666 -73.966797   \n",
       "\n",
       "  member_casual  average_temp  bike_rides_daily  \n",
       "0        member          11.6             20895  \n",
       "1        casual          11.6             20895  \n",
       "2        member          11.6             20895  \n",
       "3        casual          11.6             20895  \n",
       "4        member          11.6             20895  "
      ]
     },
     "execution_count": 11,
     "metadata": {},
     "output_type": "execute_result"
    }
   ],
   "source": [
    "# reduce the dataset to drop extraneous columns and to save memory\n",
    "df_final = df_copy.drop(columns={'ride_id','ended_at','start_station_id','end_station_id','value'})\n",
    "df_final.head(5)\n"
   ]
  },
  {
   "cell_type": "code",
   "execution_count": 12,
   "id": "8ec85f9b",
   "metadata": {},
   "outputs": [],
   "source": [
    "#save the final reduced file\n",
    "df_final.to_csv('df_final.csv')"
   ]
  },
  {
   "cell_type": "markdown",
   "id": "70eb27c1",
   "metadata": {},
   "source": [
    "## Create a dual-axis chart with the number of daily bike rides and average temperature. "
   ]
  },
  {
   "cell_type": "code",
   "execution_count": null,
   "id": "5d44b0b0",
   "metadata": {},
   "outputs": [],
   "source": [
    "\n",
    "# Create figure with secondary y-axis\n",
    "fig = make_subplots(specs=[[{\"secondary_y\": True}]])\n",
    "\n",
    "# Adding the first trace\n",
    "fig.add_trace(\n",
    "    go.Scatter(\n",
    "        x=df_final['started_at'],\n",
    "        y=df_final['bike_rides_daily'],\n",
    "        name='Daily bike rides',\n",
    "         line=dict(color='blue')\n",
    "    ),\n",
    "    secondary_y=False\n",
    ")\n",
    "\n",
    "# Adding the second trace\n",
    "fig.add_trace(\n",
    "    go.Scatter(\n",
    "        x=df_final['started_at'],\n",
    "        y=df_final['average_temp'],\n",
    "        name='Daily temperature',\n",
    "        line=dict(color='red')\n",
    "    ),\n",
    "    secondary_y=True\n",
    ")\n",
    "\n",
    "# Setting titles for the axes\n",
    "fig.update_layout(\n",
    "    title_text=\"Daily Bike Rides and Temperature\",\n",
    "    xaxis_title=\"Date\",\n",
    "    yaxis_title=\"Bike Rides\",\n",
    "    yaxis2_title=\"Temperature\"\n",
    ")\n",
    "\n",
    "# Show the plot\n",
    "fig.show()\n",
    "\n",
    "\n",
    "# The output below has been deleted because it expands the size the file."
   ]
  }
 ],
 "metadata": {
  "kernelspec": {
   "display_name": "Python 3 (ipykernel)",
   "language": "python",
   "name": "python3"
  },
  "language_info": {
   "codemirror_mode": {
    "name": "ipython",
    "version": 3
   },
   "file_extension": ".py",
   "mimetype": "text/x-python",
   "name": "python",
   "nbconvert_exporter": "python",
   "pygments_lexer": "ipython3",
   "version": "3.12.4"
  }
 },
 "nbformat": 4,
 "nbformat_minor": 5
}
